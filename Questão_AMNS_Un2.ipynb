{
  "nbformat": 4,
  "nbformat_minor": 0,
  "metadata": {
    "colab": {
      "provenance": [],
      "collapsed_sections": [
        "WO2gqsqDrkDa"
      ]
    },
    "kernelspec": {
      "name": "python3",
      "display_name": "Python 3"
    },
    "language_info": {
      "name": "python"
    }
  },
  "cells": [
    {
      "cell_type": "markdown",
      "source": [
        "## Informações sobre o aluno:"
      ],
      "metadata": {
        "id": "HNCcuvO6NPsC"
      }
    },
    {
      "cell_type": "markdown",
      "source": [
        "Nomes:\n",
        "\n",
        "Matrícula:"
      ],
      "metadata": {
        "id": "7m0ykzA2NMcw"
      }
    },
    {
      "cell_type": "markdown",
      "source": [
        "## Questão 1"
      ],
      "metadata": {
        "id": "wElPv96wNSbW"
      }
    },
    {
      "cell_type": "markdown",
      "source": [
        "Você foi convidado para participar de um projeto de uma empresa BIA Technologies, uma empresa voltada para o comércio de jogos para video-games e computadores. Esse projeto conta com uma equipe de sistemas de recomendação, na qual você foi convidado a participar. Dessa forma, você irá auxiliar o desenvolvimento de um sistema de recomendação para essa empresa.\n",
        "\n",
        "Considere o dataset fornecido pela empresa e faça uma análise básica desse dataset. Em seguida, utilize seus conhecimentos para desenvolver e avaliar três diferentes sistemas de recomendação da seguinte forma:\n",
        "\n",
        "a) Desenvolva um sistema de recomendação utilizando filtragem colaborativa (sem realizar a redução da dimensionalidade dos dados);\n",
        "\n",
        "b) Desenvolva um sistema de recomendação baseado em conteúdo (sem realizar a redução da dimensionalidade dos dados);\n",
        "\n",
        "c) Desenvolva um sistema de recomendação utilizando a redução da dimensionalidade dos dados.\n",
        "\n",
        "Forneça as métricas de avaliações para cada um dos sistemas. Conclua suas observações de forma a convencer o gestor do projeto sobre qual foi o melhor sistema de recomendação obtido até o momento.\n",
        "\n",
        "**Entrega da resolução da prova: dia 03/12/2024 até as 23:59, via SIGAA.**"
      ],
      "metadata": {
        "id": "7aTCDlfNNZJ-"
      }
    },
    {
      "cell_type": "markdown",
      "source": [
        "**Obs.:** A outra equipe de sistemas de recomendação da empresa BIA Technologies apresentou uma solução atingindo as métricas abaixo. Seu sistema deverá fornecer métricas melhores que as obtidas pela outra equipe (baseline):\n",
        "\n",
        "'ndcg@5' = 0.0016818836315317604\n",
        "\n",
        "'ndcg@10' = 0.003073280417540927\n",
        "\n",
        "'precision@5' = 0.00016758439071103669\n",
        "\n",
        "'precision@10' = 8.379219535551834e-05"
      ],
      "metadata": {
        "id": "LVAKu7nQjNNL"
      }
    },
    {
      "cell_type": "markdown",
      "source": [
        "## Conjunto de Dados"
      ],
      "metadata": {
        "id": "WO2gqsqDrkDa"
      }
    },
    {
      "cell_type": "code",
      "source": [
        "import os\n",
        "import json\n",
        "import gzip\n",
        "import pandas as pd"
      ],
      "metadata": {
        "id": "M3HwmoWOrnEm"
      },
      "execution_count": null,
      "outputs": []
    },
    {
      "cell_type": "code",
      "source": [
        "!wget https://datarepo.eng.ucsd.edu/mcauley_group/data/amazon_v2/categoryFilesSmall/Video_Games_5.json.gz"
      ],
      "metadata": {
        "id": "kmf5VOy7rqG1",
        "colab": {
          "base_uri": "https://localhost:8080/"
        },
        "outputId": "f1f701f2-0a9b-4ead-f214-c9c90725b1c4"
      },
      "execution_count": null,
      "outputs": [
        {
          "output_type": "stream",
          "name": "stdout",
          "text": [
            "--2024-11-23 21:54:50--  https://datarepo.eng.ucsd.edu/mcauley_group/data/amazon_v2/categoryFilesSmall/Video_Games_5.json.gz\n",
            "Resolving datarepo.eng.ucsd.edu (datarepo.eng.ucsd.edu)... 132.239.8.30\n",
            "Connecting to datarepo.eng.ucsd.edu (datarepo.eng.ucsd.edu)|132.239.8.30|:443... connected.\n",
            "HTTP request sent, awaiting response... 200 OK\n",
            "Length: 154050105 (147M) [application/x-gzip]\n",
            "Saving to: ‘Video_Games_5.json.gz’\n",
            "\n",
            "Video_Games_5.json. 100%[===================>] 146.91M   107MB/s    in 1.4s    \n",
            "\n",
            "2024-11-23 21:54:52 (107 MB/s) - ‘Video_Games_5.json.gz’ saved [154050105/154050105]\n",
            "\n"
          ]
        }
      ]
    },
    {
      "cell_type": "code",
      "source": [
        "!wget https://datarepo.eng.ucsd.edu/mcauley_group/data/amazon_v2/metaFiles2/meta_Video_Games.json.gz"
      ],
      "metadata": {
        "id": "e5g-UmgfrqC8",
        "colab": {
          "base_uri": "https://localhost:8080/"
        },
        "outputId": "d57355b1-0a32-4717-e714-cd7885f8e246"
      },
      "execution_count": null,
      "outputs": [
        {
          "output_type": "stream",
          "name": "stdout",
          "text": [
            "--2024-11-23 21:54:52--  https://datarepo.eng.ucsd.edu/mcauley_group/data/amazon_v2/metaFiles2/meta_Video_Games.json.gz\n",
            "Resolving datarepo.eng.ucsd.edu (datarepo.eng.ucsd.edu)... 132.239.8.30\n",
            "Connecting to datarepo.eng.ucsd.edu (datarepo.eng.ucsd.edu)|132.239.8.30|:443... connected.\n",
            "HTTP request sent, awaiting response... 200 OK\n",
            "Length: 53175983 (51M) [application/x-gzip]\n",
            "Saving to: ‘meta_Video_Games.json.gz’\n",
            "\n",
            "meta_Video_Games.js 100%[===================>]  50.71M  98.8MB/s    in 0.5s    \n",
            "\n",
            "2024-11-23 21:54:52 (98.8 MB/s) - ‘meta_Video_Games.json.gz’ saved [53175983/53175983]\n",
            "\n"
          ]
        }
      ]
    },
    {
      "cell_type": "code",
      "source": [
        "def load_file(file_name):\n",
        "    data = []\n",
        "    with gzip.open(file_name) as f:\n",
        "        for l in f:\n",
        "            data.append(json.loads(l.strip()))\n",
        "\n",
        "    print(file_name, len(data))\n",
        "    df = pd.DataFrame.from_dict(data)\n",
        "    return df\n",
        "\n",
        "reviews_df = load_file(\"Video_Games_5.json.gz\")\n",
        "metadata_df = load_file(\"meta_Video_Games.json.gz\")"
      ],
      "metadata": {
        "id": "ecoioxH6rp9O",
        "colab": {
          "base_uri": "https://localhost:8080/"
        },
        "outputId": "8c42cac3-308b-4ad3-c816-ed1eb6a88bc5"
      },
      "execution_count": null,
      "outputs": [
        {
          "output_type": "stream",
          "name": "stdout",
          "text": [
            "Video_Games_5.json.gz 497577\n",
            "meta_Video_Games.json.gz 84819\n"
          ]
        }
      ]
    },
    {
      "cell_type": "markdown",
      "source": [
        "### Descrição das colunas\n",
        "- reviewerID - ID do avaliador, por exemplo, A2SUAM1J3GNN3B\n",
        "- asin - ID do produto, por exemplo, 0000013714\n",
        "- reviewerName - nome do avaliador\n",
        "- vote - votos úteis da avaliação\n",
        "- style - um dicionário dos metadados do produto, por exemplo, \"Formato\" é \"Capa Dura\"\n",
        "- reviewText - texto da avaliação\n",
        "- overall - classificação do produto\n",
        "- summary - resumo da avaliação\n",
        "- unixReviewTime - tempo da avaliação (tempo Unix)\n",
        "- reviewTime - tempo da avaliação (formato original)\n",
        "- image - imagens que os usuários postam após receberem o produto"
      ],
      "metadata": {
        "id": "l81aOZI_rt6e"
      }
    },
    {
      "cell_type": "code",
      "source": [
        "reviews_df.head()"
      ],
      "metadata": {
        "id": "jVM_gvydrvWT",
        "colab": {
          "base_uri": "https://localhost:8080/",
          "height": 206
        },
        "outputId": "30257fe1-4551-4c81-be7b-63dc11d3ac72"
      },
      "execution_count": null,
      "outputs": [
        {
          "output_type": "execute_result",
          "data": {
            "text/plain": [
              "   overall  verified   reviewTime      reviewerID        asin  \\\n",
              "0      5.0      True  10 17, 2015  A1HP7NVNPFMA4N  0700026657   \n",
              "1      4.0     False  07 27, 2015  A1JGAP0185YJI6  0700026657   \n",
              "2      3.0      True  02 23, 2015  A1YJWEXHQBWK2B  0700026657   \n",
              "3      2.0      True  02 20, 2015  A2204E1TH211HT  0700026657   \n",
              "4      5.0      True  12 25, 2014  A2RF5B5H74JLPE  0700026657   \n",
              "\n",
              "        reviewerName                                         reviewText  \\\n",
              "0        Ambrosia075  This game is a bit hard to get the hang of, bu...   \n",
              "1             travis  I played it a while but it was alright. The st...   \n",
              "2  Vincent G. Mezera                                           ok game.   \n",
              "3         Grandma KR  found the game a bit too complicated, not what...   \n",
              "4                jon  great game, I love it and have played it since...   \n",
              "\n",
              "                                       summary  unixReviewTime vote style  \\\n",
              "0                  but when you do it's great.      1445040000  NaN   NaN   \n",
              "1  But in spite of that it was fun, I liked it      1437955200  NaN   NaN   \n",
              "2                                  Three Stars      1424649600  NaN   NaN   \n",
              "3                                    Two Stars      1424390400  NaN   NaN   \n",
              "4                               love this game      1419465600  NaN   NaN   \n",
              "\n",
              "  image  \n",
              "0   NaN  \n",
              "1   NaN  \n",
              "2   NaN  \n",
              "3   NaN  \n",
              "4   NaN  "
            ],
            "text/html": [
              "\n",
              "  <div id=\"df-7e8a6005-f023-4937-bc91-61423b276fbd\" class=\"colab-df-container\">\n",
              "    <div>\n",
              "<style scoped>\n",
              "    .dataframe tbody tr th:only-of-type {\n",
              "        vertical-align: middle;\n",
              "    }\n",
              "\n",
              "    .dataframe tbody tr th {\n",
              "        vertical-align: top;\n",
              "    }\n",
              "\n",
              "    .dataframe thead th {\n",
              "        text-align: right;\n",
              "    }\n",
              "</style>\n",
              "<table border=\"1\" class=\"dataframe\">\n",
              "  <thead>\n",
              "    <tr style=\"text-align: right;\">\n",
              "      <th></th>\n",
              "      <th>overall</th>\n",
              "      <th>verified</th>\n",
              "      <th>reviewTime</th>\n",
              "      <th>reviewerID</th>\n",
              "      <th>asin</th>\n",
              "      <th>reviewerName</th>\n",
              "      <th>reviewText</th>\n",
              "      <th>summary</th>\n",
              "      <th>unixReviewTime</th>\n",
              "      <th>vote</th>\n",
              "      <th>style</th>\n",
              "      <th>image</th>\n",
              "    </tr>\n",
              "  </thead>\n",
              "  <tbody>\n",
              "    <tr>\n",
              "      <th>0</th>\n",
              "      <td>5.0</td>\n",
              "      <td>True</td>\n",
              "      <td>10 17, 2015</td>\n",
              "      <td>A1HP7NVNPFMA4N</td>\n",
              "      <td>0700026657</td>\n",
              "      <td>Ambrosia075</td>\n",
              "      <td>This game is a bit hard to get the hang of, bu...</td>\n",
              "      <td>but when you do it's great.</td>\n",
              "      <td>1445040000</td>\n",
              "      <td>NaN</td>\n",
              "      <td>NaN</td>\n",
              "      <td>NaN</td>\n",
              "    </tr>\n",
              "    <tr>\n",
              "      <th>1</th>\n",
              "      <td>4.0</td>\n",
              "      <td>False</td>\n",
              "      <td>07 27, 2015</td>\n",
              "      <td>A1JGAP0185YJI6</td>\n",
              "      <td>0700026657</td>\n",
              "      <td>travis</td>\n",
              "      <td>I played it a while but it was alright. The st...</td>\n",
              "      <td>But in spite of that it was fun, I liked it</td>\n",
              "      <td>1437955200</td>\n",
              "      <td>NaN</td>\n",
              "      <td>NaN</td>\n",
              "      <td>NaN</td>\n",
              "    </tr>\n",
              "    <tr>\n",
              "      <th>2</th>\n",
              "      <td>3.0</td>\n",
              "      <td>True</td>\n",
              "      <td>02 23, 2015</td>\n",
              "      <td>A1YJWEXHQBWK2B</td>\n",
              "      <td>0700026657</td>\n",
              "      <td>Vincent G. Mezera</td>\n",
              "      <td>ok game.</td>\n",
              "      <td>Three Stars</td>\n",
              "      <td>1424649600</td>\n",
              "      <td>NaN</td>\n",
              "      <td>NaN</td>\n",
              "      <td>NaN</td>\n",
              "    </tr>\n",
              "    <tr>\n",
              "      <th>3</th>\n",
              "      <td>2.0</td>\n",
              "      <td>True</td>\n",
              "      <td>02 20, 2015</td>\n",
              "      <td>A2204E1TH211HT</td>\n",
              "      <td>0700026657</td>\n",
              "      <td>Grandma KR</td>\n",
              "      <td>found the game a bit too complicated, not what...</td>\n",
              "      <td>Two Stars</td>\n",
              "      <td>1424390400</td>\n",
              "      <td>NaN</td>\n",
              "      <td>NaN</td>\n",
              "      <td>NaN</td>\n",
              "    </tr>\n",
              "    <tr>\n",
              "      <th>4</th>\n",
              "      <td>5.0</td>\n",
              "      <td>True</td>\n",
              "      <td>12 25, 2014</td>\n",
              "      <td>A2RF5B5H74JLPE</td>\n",
              "      <td>0700026657</td>\n",
              "      <td>jon</td>\n",
              "      <td>great game, I love it and have played it since...</td>\n",
              "      <td>love this game</td>\n",
              "      <td>1419465600</td>\n",
              "      <td>NaN</td>\n",
              "      <td>NaN</td>\n",
              "      <td>NaN</td>\n",
              "    </tr>\n",
              "  </tbody>\n",
              "</table>\n",
              "</div>\n",
              "    <div class=\"colab-df-buttons\">\n",
              "\n",
              "  <div class=\"colab-df-container\">\n",
              "    <button class=\"colab-df-convert\" onclick=\"convertToInteractive('df-7e8a6005-f023-4937-bc91-61423b276fbd')\"\n",
              "            title=\"Convert this dataframe to an interactive table.\"\n",
              "            style=\"display:none;\">\n",
              "\n",
              "  <svg xmlns=\"http://www.w3.org/2000/svg\" height=\"24px\" viewBox=\"0 -960 960 960\">\n",
              "    <path d=\"M120-120v-720h720v720H120Zm60-500h600v-160H180v160Zm220 220h160v-160H400v160Zm0 220h160v-160H400v160ZM180-400h160v-160H180v160Zm440 0h160v-160H620v160ZM180-180h160v-160H180v160Zm440 0h160v-160H620v160Z\"/>\n",
              "  </svg>\n",
              "    </button>\n",
              "\n",
              "  <style>\n",
              "    .colab-df-container {\n",
              "      display:flex;\n",
              "      gap: 12px;\n",
              "    }\n",
              "\n",
              "    .colab-df-convert {\n",
              "      background-color: #E8F0FE;\n",
              "      border: none;\n",
              "      border-radius: 50%;\n",
              "      cursor: pointer;\n",
              "      display: none;\n",
              "      fill: #1967D2;\n",
              "      height: 32px;\n",
              "      padding: 0 0 0 0;\n",
              "      width: 32px;\n",
              "    }\n",
              "\n",
              "    .colab-df-convert:hover {\n",
              "      background-color: #E2EBFA;\n",
              "      box-shadow: 0px 1px 2px rgba(60, 64, 67, 0.3), 0px 1px 3px 1px rgba(60, 64, 67, 0.15);\n",
              "      fill: #174EA6;\n",
              "    }\n",
              "\n",
              "    .colab-df-buttons div {\n",
              "      margin-bottom: 4px;\n",
              "    }\n",
              "\n",
              "    [theme=dark] .colab-df-convert {\n",
              "      background-color: #3B4455;\n",
              "      fill: #D2E3FC;\n",
              "    }\n",
              "\n",
              "    [theme=dark] .colab-df-convert:hover {\n",
              "      background-color: #434B5C;\n",
              "      box-shadow: 0px 1px 3px 1px rgba(0, 0, 0, 0.15);\n",
              "      filter: drop-shadow(0px 1px 2px rgba(0, 0, 0, 0.3));\n",
              "      fill: #FFFFFF;\n",
              "    }\n",
              "  </style>\n",
              "\n",
              "    <script>\n",
              "      const buttonEl =\n",
              "        document.querySelector('#df-7e8a6005-f023-4937-bc91-61423b276fbd button.colab-df-convert');\n",
              "      buttonEl.style.display =\n",
              "        google.colab.kernel.accessAllowed ? 'block' : 'none';\n",
              "\n",
              "      async function convertToInteractive(key) {\n",
              "        const element = document.querySelector('#df-7e8a6005-f023-4937-bc91-61423b276fbd');\n",
              "        const dataTable =\n",
              "          await google.colab.kernel.invokeFunction('convertToInteractive',\n",
              "                                                    [key], {});\n",
              "        if (!dataTable) return;\n",
              "\n",
              "        const docLinkHtml = 'Like what you see? Visit the ' +\n",
              "          '<a target=\"_blank\" href=https://colab.research.google.com/notebooks/data_table.ipynb>data table notebook</a>'\n",
              "          + ' to learn more about interactive tables.';\n",
              "        element.innerHTML = '';\n",
              "        dataTable['output_type'] = 'display_data';\n",
              "        await google.colab.output.renderOutput(dataTable, element);\n",
              "        const docLink = document.createElement('div');\n",
              "        docLink.innerHTML = docLinkHtml;\n",
              "        element.appendChild(docLink);\n",
              "      }\n",
              "    </script>\n",
              "  </div>\n",
              "\n",
              "\n",
              "<div id=\"df-3cf05e07-42c3-46d8-b741-83d46a29044c\">\n",
              "  <button class=\"colab-df-quickchart\" onclick=\"quickchart('df-3cf05e07-42c3-46d8-b741-83d46a29044c')\"\n",
              "            title=\"Suggest charts\"\n",
              "            style=\"display:none;\">\n",
              "\n",
              "<svg xmlns=\"http://www.w3.org/2000/svg\" height=\"24px\"viewBox=\"0 0 24 24\"\n",
              "     width=\"24px\">\n",
              "    <g>\n",
              "        <path d=\"M19 3H5c-1.1 0-2 .9-2 2v14c0 1.1.9 2 2 2h14c1.1 0 2-.9 2-2V5c0-1.1-.9-2-2-2zM9 17H7v-7h2v7zm4 0h-2V7h2v10zm4 0h-2v-4h2v4z\"/>\n",
              "    </g>\n",
              "</svg>\n",
              "  </button>\n",
              "\n",
              "<style>\n",
              "  .colab-df-quickchart {\n",
              "      --bg-color: #E8F0FE;\n",
              "      --fill-color: #1967D2;\n",
              "      --hover-bg-color: #E2EBFA;\n",
              "      --hover-fill-color: #174EA6;\n",
              "      --disabled-fill-color: #AAA;\n",
              "      --disabled-bg-color: #DDD;\n",
              "  }\n",
              "\n",
              "  [theme=dark] .colab-df-quickchart {\n",
              "      --bg-color: #3B4455;\n",
              "      --fill-color: #D2E3FC;\n",
              "      --hover-bg-color: #434B5C;\n",
              "      --hover-fill-color: #FFFFFF;\n",
              "      --disabled-bg-color: #3B4455;\n",
              "      --disabled-fill-color: #666;\n",
              "  }\n",
              "\n",
              "  .colab-df-quickchart {\n",
              "    background-color: var(--bg-color);\n",
              "    border: none;\n",
              "    border-radius: 50%;\n",
              "    cursor: pointer;\n",
              "    display: none;\n",
              "    fill: var(--fill-color);\n",
              "    height: 32px;\n",
              "    padding: 0;\n",
              "    width: 32px;\n",
              "  }\n",
              "\n",
              "  .colab-df-quickchart:hover {\n",
              "    background-color: var(--hover-bg-color);\n",
              "    box-shadow: 0 1px 2px rgba(60, 64, 67, 0.3), 0 1px 3px 1px rgba(60, 64, 67, 0.15);\n",
              "    fill: var(--button-hover-fill-color);\n",
              "  }\n",
              "\n",
              "  .colab-df-quickchart-complete:disabled,\n",
              "  .colab-df-quickchart-complete:disabled:hover {\n",
              "    background-color: var(--disabled-bg-color);\n",
              "    fill: var(--disabled-fill-color);\n",
              "    box-shadow: none;\n",
              "  }\n",
              "\n",
              "  .colab-df-spinner {\n",
              "    border: 2px solid var(--fill-color);\n",
              "    border-color: transparent;\n",
              "    border-bottom-color: var(--fill-color);\n",
              "    animation:\n",
              "      spin 1s steps(1) infinite;\n",
              "  }\n",
              "\n",
              "  @keyframes spin {\n",
              "    0% {\n",
              "      border-color: transparent;\n",
              "      border-bottom-color: var(--fill-color);\n",
              "      border-left-color: var(--fill-color);\n",
              "    }\n",
              "    20% {\n",
              "      border-color: transparent;\n",
              "      border-left-color: var(--fill-color);\n",
              "      border-top-color: var(--fill-color);\n",
              "    }\n",
              "    30% {\n",
              "      border-color: transparent;\n",
              "      border-left-color: var(--fill-color);\n",
              "      border-top-color: var(--fill-color);\n",
              "      border-right-color: var(--fill-color);\n",
              "    }\n",
              "    40% {\n",
              "      border-color: transparent;\n",
              "      border-right-color: var(--fill-color);\n",
              "      border-top-color: var(--fill-color);\n",
              "    }\n",
              "    60% {\n",
              "      border-color: transparent;\n",
              "      border-right-color: var(--fill-color);\n",
              "    }\n",
              "    80% {\n",
              "      border-color: transparent;\n",
              "      border-right-color: var(--fill-color);\n",
              "      border-bottom-color: var(--fill-color);\n",
              "    }\n",
              "    90% {\n",
              "      border-color: transparent;\n",
              "      border-bottom-color: var(--fill-color);\n",
              "    }\n",
              "  }\n",
              "</style>\n",
              "\n",
              "  <script>\n",
              "    async function quickchart(key) {\n",
              "      const quickchartButtonEl =\n",
              "        document.querySelector('#' + key + ' button');\n",
              "      quickchartButtonEl.disabled = true;  // To prevent multiple clicks.\n",
              "      quickchartButtonEl.classList.add('colab-df-spinner');\n",
              "      try {\n",
              "        const charts = await google.colab.kernel.invokeFunction(\n",
              "            'suggestCharts', [key], {});\n",
              "      } catch (error) {\n",
              "        console.error('Error during call to suggestCharts:', error);\n",
              "      }\n",
              "      quickchartButtonEl.classList.remove('colab-df-spinner');\n",
              "      quickchartButtonEl.classList.add('colab-df-quickchart-complete');\n",
              "    }\n",
              "    (() => {\n",
              "      let quickchartButtonEl =\n",
              "        document.querySelector('#df-3cf05e07-42c3-46d8-b741-83d46a29044c button');\n",
              "      quickchartButtonEl.style.display =\n",
              "        google.colab.kernel.accessAllowed ? 'block' : 'none';\n",
              "    })();\n",
              "  </script>\n",
              "</div>\n",
              "\n",
              "    </div>\n",
              "  </div>\n"
            ],
            "application/vnd.google.colaboratory.intrinsic+json": {
              "type": "dataframe",
              "variable_name": "reviews_df"
            }
          },
          "metadata": {},
          "execution_count": 5
        }
      ]
    },
    {
      "cell_type": "markdown",
      "source": [
        "### Descrição das colunas\n",
        "\n",
        "- asin - ID do produto, por exemplo, 0000031852\n",
        "- title - nome do produto\n",
        "- feature - características do produto em formato de lista de itens\n",
        "- description - descrição do produto\n",
        "- price - preço em dólares americanos (no momento da coleta de dados)\n",
        "- imageURL - URL da imagem do produto\n",
        "- imageURLHighRes - URL da imagem do produto em alta resolução\n",
        "- related - produtos relacionados (também comprados, também visualizados comprados juntos, comprar após visualizar)\n",
        "- salesRank - informações do ranking de vendas\n",
        "- brand - nome da marca\n",
        "- categories - lista de categorias às quais o produto pertence\n",
        "- tech1 - primeira tabela de detalhes técnicos do produto\n",
        "- tech2 - segunda tabela de detalhes técnicos do produto\n",
        "- similar - tabela de produtos similares"
      ],
      "metadata": {
        "id": "U0Xdx5M8rw6U"
      }
    },
    {
      "cell_type": "code",
      "source": [
        "metadata_df.head()"
      ],
      "metadata": {
        "id": "rQBCdOwRrvTU",
        "colab": {
          "base_uri": "https://localhost:8080/",
          "height": 536
        },
        "outputId": "93879e3a-8619-475a-f6fe-3f2a8c7b8085"
      },
      "execution_count": null,
      "outputs": [
        {
          "output_type": "execute_result",
          "data": {
            "text/plain": [
              "                                            category tech1  \\\n",
              "0                           [Video Games, PC, Games]         \n",
              "1  [Video Games, Xbox 360, Games, </span></span><...         \n",
              "2  [Video Games, Retro Gaming & Microconsoles, Su...         \n",
              "3  [Video Games, Xbox 360, Accessories, Controlle...         \n",
              "4  [Video Games, PC, Games, </span></span></span>...         \n",
              "\n",
              "                                         description fit  \\\n",
              "0                                                 []       \n",
              "1                                [Brand new sealed!]       \n",
              "2                                                 []       \n",
              "3  [MAS's Pro Xbox 360 Stick (Perfect 360 Stick) ...       \n",
              "4  [Phonics Alive! 3, The Speller teaches student...       \n",
              "\n",
              "                                               title      also_buy tech2  \\\n",
              "0                         Reversi Sensory Challenger            []         \n",
              "1  Medal of Honor: Warfighter - Includes Battlefi...  [B00PADROYW]         \n",
              "2  street fighter 2 II turbo super nintendo snes ...            []         \n",
              "3                                 Xbox 360 MAS STICK            []         \n",
              "4                      Phonics Alive! 3: The Speller            []         \n",
              "\n",
              "                                       brand  \\\n",
              "0                       Fidelity Electronics   \n",
              "1                     by\\n    \\n    EA Games   \n",
              "2                                   Nintendo   \n",
              "3                  by\\n    \\n    MAS SYSTEMS   \n",
              "4  by\\n    \\n    Advanced Software Pty. Ltd.   \n",
              "\n",
              "                                             feature  \\\n",
              "0                                                 []   \n",
              "1                                                 []   \n",
              "2                                                 []   \n",
              "3  [Original PCB used from Xbox 360 Control Pad (...   \n",
              "4  [Grades 2-12, Spelling Program, Teaches Spelli...   \n",
              "\n",
              "                                                rank  \\\n",
              "0  [>#2,623,937 in Toys &amp; Games (See Top 100 ...   \n",
              "1  [>#67,231 in Video Games (See Top 100 in Video...   \n",
              "2  [>#134,433 in Video Games (See Top 100 in Vide...   \n",
              "3  [>#105,263 in Video Games (See Top 100 in Vide...   \n",
              "4  [>#92,397 in Video Games (See Top 100 in Video...   \n",
              "\n",
              "                                           also_view          main_cat  \\\n",
              "0                                                 []  Toys &amp; Games   \n",
              "1  [B0050SY5BM, B072NQJCW5, B000TI836G, B002SRSQ7...       Video Games   \n",
              "2                                                 []       Video Games   \n",
              "3                                                 []       Video Games   \n",
              "4                                       [B000BCZ7U0]       Video Games   \n",
              "\n",
              "  similar_item date                                              price  \\\n",
              "0                                                                        \n",
              "1                    \\n\\t\\t\\t\\t\\t\\t\\t\\t\\t\\t\\t\\t<span class=\"vertica...   \n",
              "2                                                                $0.72   \n",
              "3                                                                        \n",
              "4                                                                        \n",
              "\n",
              "         asin                                           imageURL  \\\n",
              "0  0042000742  [https://images-na.ssl-images-amazon.com/image...   \n",
              "1  0078764343  [https://images-na.ssl-images-amazon.com/image...   \n",
              "2  0276425316                                                 []   \n",
              "3  0324411812  [https://images-na.ssl-images-amazon.com/image...   \n",
              "4  0439335310  [https://images-na.ssl-images-amazon.com/image...   \n",
              "\n",
              "                                     imageURLHighRes details  \n",
              "0  [https://images-na.ssl-images-amazon.com/image...     NaN  \n",
              "1  [https://images-na.ssl-images-amazon.com/image...     NaN  \n",
              "2                                                 []     NaN  \n",
              "3  [https://images-na.ssl-images-amazon.com/image...     NaN  \n",
              "4  [https://images-na.ssl-images-amazon.com/image...     NaN  "
            ],
            "text/html": [
              "\n",
              "  <div id=\"df-d1e419ef-ee5c-45f9-87a6-5f01abb4fe81\" class=\"colab-df-container\">\n",
              "    <div>\n",
              "<style scoped>\n",
              "    .dataframe tbody tr th:only-of-type {\n",
              "        vertical-align: middle;\n",
              "    }\n",
              "\n",
              "    .dataframe tbody tr th {\n",
              "        vertical-align: top;\n",
              "    }\n",
              "\n",
              "    .dataframe thead th {\n",
              "        text-align: right;\n",
              "    }\n",
              "</style>\n",
              "<table border=\"1\" class=\"dataframe\">\n",
              "  <thead>\n",
              "    <tr style=\"text-align: right;\">\n",
              "      <th></th>\n",
              "      <th>category</th>\n",
              "      <th>tech1</th>\n",
              "      <th>description</th>\n",
              "      <th>fit</th>\n",
              "      <th>title</th>\n",
              "      <th>also_buy</th>\n",
              "      <th>tech2</th>\n",
              "      <th>brand</th>\n",
              "      <th>feature</th>\n",
              "      <th>rank</th>\n",
              "      <th>also_view</th>\n",
              "      <th>main_cat</th>\n",
              "      <th>similar_item</th>\n",
              "      <th>date</th>\n",
              "      <th>price</th>\n",
              "      <th>asin</th>\n",
              "      <th>imageURL</th>\n",
              "      <th>imageURLHighRes</th>\n",
              "      <th>details</th>\n",
              "    </tr>\n",
              "  </thead>\n",
              "  <tbody>\n",
              "    <tr>\n",
              "      <th>0</th>\n",
              "      <td>[Video Games, PC, Games]</td>\n",
              "      <td></td>\n",
              "      <td>[]</td>\n",
              "      <td></td>\n",
              "      <td>Reversi Sensory Challenger</td>\n",
              "      <td>[]</td>\n",
              "      <td></td>\n",
              "      <td>Fidelity Electronics</td>\n",
              "      <td>[]</td>\n",
              "      <td>[&gt;#2,623,937 in Toys &amp;amp; Games (See Top 100 ...</td>\n",
              "      <td>[]</td>\n",
              "      <td>Toys &amp;amp; Games</td>\n",
              "      <td></td>\n",
              "      <td></td>\n",
              "      <td></td>\n",
              "      <td>0042000742</td>\n",
              "      <td>[https://images-na.ssl-images-amazon.com/image...</td>\n",
              "      <td>[https://images-na.ssl-images-amazon.com/image...</td>\n",
              "      <td>NaN</td>\n",
              "    </tr>\n",
              "    <tr>\n",
              "      <th>1</th>\n",
              "      <td>[Video Games, Xbox 360, Games, &lt;/span&gt;&lt;/span&gt;&lt;...</td>\n",
              "      <td></td>\n",
              "      <td>[Brand new sealed!]</td>\n",
              "      <td></td>\n",
              "      <td>Medal of Honor: Warfighter - Includes Battlefi...</td>\n",
              "      <td>[B00PADROYW]</td>\n",
              "      <td></td>\n",
              "      <td>by\\n    \\n    EA Games</td>\n",
              "      <td>[]</td>\n",
              "      <td>[&gt;#67,231 in Video Games (See Top 100 in Video...</td>\n",
              "      <td>[B0050SY5BM, B072NQJCW5, B000TI836G, B002SRSQ7...</td>\n",
              "      <td>Video Games</td>\n",
              "      <td></td>\n",
              "      <td></td>\n",
              "      <td>\\n\\t\\t\\t\\t\\t\\t\\t\\t\\t\\t\\t\\t&lt;span class=\"vertica...</td>\n",
              "      <td>0078764343</td>\n",
              "      <td>[https://images-na.ssl-images-amazon.com/image...</td>\n",
              "      <td>[https://images-na.ssl-images-amazon.com/image...</td>\n",
              "      <td>NaN</td>\n",
              "    </tr>\n",
              "    <tr>\n",
              "      <th>2</th>\n",
              "      <td>[Video Games, Retro Gaming &amp; Microconsoles, Su...</td>\n",
              "      <td></td>\n",
              "      <td>[]</td>\n",
              "      <td></td>\n",
              "      <td>street fighter 2 II turbo super nintendo snes ...</td>\n",
              "      <td>[]</td>\n",
              "      <td></td>\n",
              "      <td>Nintendo</td>\n",
              "      <td>[]</td>\n",
              "      <td>[&gt;#134,433 in Video Games (See Top 100 in Vide...</td>\n",
              "      <td>[]</td>\n",
              "      <td>Video Games</td>\n",
              "      <td></td>\n",
              "      <td></td>\n",
              "      <td>$0.72</td>\n",
              "      <td>0276425316</td>\n",
              "      <td>[]</td>\n",
              "      <td>[]</td>\n",
              "      <td>NaN</td>\n",
              "    </tr>\n",
              "    <tr>\n",
              "      <th>3</th>\n",
              "      <td>[Video Games, Xbox 360, Accessories, Controlle...</td>\n",
              "      <td></td>\n",
              "      <td>[MAS's Pro Xbox 360 Stick (Perfect 360 Stick) ...</td>\n",
              "      <td></td>\n",
              "      <td>Xbox 360 MAS STICK</td>\n",
              "      <td>[]</td>\n",
              "      <td></td>\n",
              "      <td>by\\n    \\n    MAS SYSTEMS</td>\n",
              "      <td>[Original PCB used from Xbox 360 Control Pad (...</td>\n",
              "      <td>[&gt;#105,263 in Video Games (See Top 100 in Vide...</td>\n",
              "      <td>[]</td>\n",
              "      <td>Video Games</td>\n",
              "      <td></td>\n",
              "      <td></td>\n",
              "      <td></td>\n",
              "      <td>0324411812</td>\n",
              "      <td>[https://images-na.ssl-images-amazon.com/image...</td>\n",
              "      <td>[https://images-na.ssl-images-amazon.com/image...</td>\n",
              "      <td>NaN</td>\n",
              "    </tr>\n",
              "    <tr>\n",
              "      <th>4</th>\n",
              "      <td>[Video Games, PC, Games, &lt;/span&gt;&lt;/span&gt;&lt;/span&gt;...</td>\n",
              "      <td></td>\n",
              "      <td>[Phonics Alive! 3, The Speller teaches student...</td>\n",
              "      <td></td>\n",
              "      <td>Phonics Alive! 3: The Speller</td>\n",
              "      <td>[]</td>\n",
              "      <td></td>\n",
              "      <td>by\\n    \\n    Advanced Software Pty. Ltd.</td>\n",
              "      <td>[Grades 2-12, Spelling Program, Teaches Spelli...</td>\n",
              "      <td>[&gt;#92,397 in Video Games (See Top 100 in Video...</td>\n",
              "      <td>[B000BCZ7U0]</td>\n",
              "      <td>Video Games</td>\n",
              "      <td></td>\n",
              "      <td></td>\n",
              "      <td></td>\n",
              "      <td>0439335310</td>\n",
              "      <td>[https://images-na.ssl-images-amazon.com/image...</td>\n",
              "      <td>[https://images-na.ssl-images-amazon.com/image...</td>\n",
              "      <td>NaN</td>\n",
              "    </tr>\n",
              "  </tbody>\n",
              "</table>\n",
              "</div>\n",
              "    <div class=\"colab-df-buttons\">\n",
              "\n",
              "  <div class=\"colab-df-container\">\n",
              "    <button class=\"colab-df-convert\" onclick=\"convertToInteractive('df-d1e419ef-ee5c-45f9-87a6-5f01abb4fe81')\"\n",
              "            title=\"Convert this dataframe to an interactive table.\"\n",
              "            style=\"display:none;\">\n",
              "\n",
              "  <svg xmlns=\"http://www.w3.org/2000/svg\" height=\"24px\" viewBox=\"0 -960 960 960\">\n",
              "    <path d=\"M120-120v-720h720v720H120Zm60-500h600v-160H180v160Zm220 220h160v-160H400v160Zm0 220h160v-160H400v160ZM180-400h160v-160H180v160Zm440 0h160v-160H620v160ZM180-180h160v-160H180v160Zm440 0h160v-160H620v160Z\"/>\n",
              "  </svg>\n",
              "    </button>\n",
              "\n",
              "  <style>\n",
              "    .colab-df-container {\n",
              "      display:flex;\n",
              "      gap: 12px;\n",
              "    }\n",
              "\n",
              "    .colab-df-convert {\n",
              "      background-color: #E8F0FE;\n",
              "      border: none;\n",
              "      border-radius: 50%;\n",
              "      cursor: pointer;\n",
              "      display: none;\n",
              "      fill: #1967D2;\n",
              "      height: 32px;\n",
              "      padding: 0 0 0 0;\n",
              "      width: 32px;\n",
              "    }\n",
              "\n",
              "    .colab-df-convert:hover {\n",
              "      background-color: #E2EBFA;\n",
              "      box-shadow: 0px 1px 2px rgba(60, 64, 67, 0.3), 0px 1px 3px 1px rgba(60, 64, 67, 0.15);\n",
              "      fill: #174EA6;\n",
              "    }\n",
              "\n",
              "    .colab-df-buttons div {\n",
              "      margin-bottom: 4px;\n",
              "    }\n",
              "\n",
              "    [theme=dark] .colab-df-convert {\n",
              "      background-color: #3B4455;\n",
              "      fill: #D2E3FC;\n",
              "    }\n",
              "\n",
              "    [theme=dark] .colab-df-convert:hover {\n",
              "      background-color: #434B5C;\n",
              "      box-shadow: 0px 1px 3px 1px rgba(0, 0, 0, 0.15);\n",
              "      filter: drop-shadow(0px 1px 2px rgba(0, 0, 0, 0.3));\n",
              "      fill: #FFFFFF;\n",
              "    }\n",
              "  </style>\n",
              "\n",
              "    <script>\n",
              "      const buttonEl =\n",
              "        document.querySelector('#df-d1e419ef-ee5c-45f9-87a6-5f01abb4fe81 button.colab-df-convert');\n",
              "      buttonEl.style.display =\n",
              "        google.colab.kernel.accessAllowed ? 'block' : 'none';\n",
              "\n",
              "      async function convertToInteractive(key) {\n",
              "        const element = document.querySelector('#df-d1e419ef-ee5c-45f9-87a6-5f01abb4fe81');\n",
              "        const dataTable =\n",
              "          await google.colab.kernel.invokeFunction('convertToInteractive',\n",
              "                                                    [key], {});\n",
              "        if (!dataTable) return;\n",
              "\n",
              "        const docLinkHtml = 'Like what you see? Visit the ' +\n",
              "          '<a target=\"_blank\" href=https://colab.research.google.com/notebooks/data_table.ipynb>data table notebook</a>'\n",
              "          + ' to learn more about interactive tables.';\n",
              "        element.innerHTML = '';\n",
              "        dataTable['output_type'] = 'display_data';\n",
              "        await google.colab.output.renderOutput(dataTable, element);\n",
              "        const docLink = document.createElement('div');\n",
              "        docLink.innerHTML = docLinkHtml;\n",
              "        element.appendChild(docLink);\n",
              "      }\n",
              "    </script>\n",
              "  </div>\n",
              "\n",
              "\n",
              "<div id=\"df-baf25af5-e1fd-4509-a523-b1eb0e9619c5\">\n",
              "  <button class=\"colab-df-quickchart\" onclick=\"quickchart('df-baf25af5-e1fd-4509-a523-b1eb0e9619c5')\"\n",
              "            title=\"Suggest charts\"\n",
              "            style=\"display:none;\">\n",
              "\n",
              "<svg xmlns=\"http://www.w3.org/2000/svg\" height=\"24px\"viewBox=\"0 0 24 24\"\n",
              "     width=\"24px\">\n",
              "    <g>\n",
              "        <path d=\"M19 3H5c-1.1 0-2 .9-2 2v14c0 1.1.9 2 2 2h14c1.1 0 2-.9 2-2V5c0-1.1-.9-2-2-2zM9 17H7v-7h2v7zm4 0h-2V7h2v10zm4 0h-2v-4h2v4z\"/>\n",
              "    </g>\n",
              "</svg>\n",
              "  </button>\n",
              "\n",
              "<style>\n",
              "  .colab-df-quickchart {\n",
              "      --bg-color: #E8F0FE;\n",
              "      --fill-color: #1967D2;\n",
              "      --hover-bg-color: #E2EBFA;\n",
              "      --hover-fill-color: #174EA6;\n",
              "      --disabled-fill-color: #AAA;\n",
              "      --disabled-bg-color: #DDD;\n",
              "  }\n",
              "\n",
              "  [theme=dark] .colab-df-quickchart {\n",
              "      --bg-color: #3B4455;\n",
              "      --fill-color: #D2E3FC;\n",
              "      --hover-bg-color: #434B5C;\n",
              "      --hover-fill-color: #FFFFFF;\n",
              "      --disabled-bg-color: #3B4455;\n",
              "      --disabled-fill-color: #666;\n",
              "  }\n",
              "\n",
              "  .colab-df-quickchart {\n",
              "    background-color: var(--bg-color);\n",
              "    border: none;\n",
              "    border-radius: 50%;\n",
              "    cursor: pointer;\n",
              "    display: none;\n",
              "    fill: var(--fill-color);\n",
              "    height: 32px;\n",
              "    padding: 0;\n",
              "    width: 32px;\n",
              "  }\n",
              "\n",
              "  .colab-df-quickchart:hover {\n",
              "    background-color: var(--hover-bg-color);\n",
              "    box-shadow: 0 1px 2px rgba(60, 64, 67, 0.3), 0 1px 3px 1px rgba(60, 64, 67, 0.15);\n",
              "    fill: var(--button-hover-fill-color);\n",
              "  }\n",
              "\n",
              "  .colab-df-quickchart-complete:disabled,\n",
              "  .colab-df-quickchart-complete:disabled:hover {\n",
              "    background-color: var(--disabled-bg-color);\n",
              "    fill: var(--disabled-fill-color);\n",
              "    box-shadow: none;\n",
              "  }\n",
              "\n",
              "  .colab-df-spinner {\n",
              "    border: 2px solid var(--fill-color);\n",
              "    border-color: transparent;\n",
              "    border-bottom-color: var(--fill-color);\n",
              "    animation:\n",
              "      spin 1s steps(1) infinite;\n",
              "  }\n",
              "\n",
              "  @keyframes spin {\n",
              "    0% {\n",
              "      border-color: transparent;\n",
              "      border-bottom-color: var(--fill-color);\n",
              "      border-left-color: var(--fill-color);\n",
              "    }\n",
              "    20% {\n",
              "      border-color: transparent;\n",
              "      border-left-color: var(--fill-color);\n",
              "      border-top-color: var(--fill-color);\n",
              "    }\n",
              "    30% {\n",
              "      border-color: transparent;\n",
              "      border-left-color: var(--fill-color);\n",
              "      border-top-color: var(--fill-color);\n",
              "      border-right-color: var(--fill-color);\n",
              "    }\n",
              "    40% {\n",
              "      border-color: transparent;\n",
              "      border-right-color: var(--fill-color);\n",
              "      border-top-color: var(--fill-color);\n",
              "    }\n",
              "    60% {\n",
              "      border-color: transparent;\n",
              "      border-right-color: var(--fill-color);\n",
              "    }\n",
              "    80% {\n",
              "      border-color: transparent;\n",
              "      border-right-color: var(--fill-color);\n",
              "      border-bottom-color: var(--fill-color);\n",
              "    }\n",
              "    90% {\n",
              "      border-color: transparent;\n",
              "      border-bottom-color: var(--fill-color);\n",
              "    }\n",
              "  }\n",
              "</style>\n",
              "\n",
              "  <script>\n",
              "    async function quickchart(key) {\n",
              "      const quickchartButtonEl =\n",
              "        document.querySelector('#' + key + ' button');\n",
              "      quickchartButtonEl.disabled = true;  // To prevent multiple clicks.\n",
              "      quickchartButtonEl.classList.add('colab-df-spinner');\n",
              "      try {\n",
              "        const charts = await google.colab.kernel.invokeFunction(\n",
              "            'suggestCharts', [key], {});\n",
              "      } catch (error) {\n",
              "        console.error('Error during call to suggestCharts:', error);\n",
              "      }\n",
              "      quickchartButtonEl.classList.remove('colab-df-spinner');\n",
              "      quickchartButtonEl.classList.add('colab-df-quickchart-complete');\n",
              "    }\n",
              "    (() => {\n",
              "      let quickchartButtonEl =\n",
              "        document.querySelector('#df-baf25af5-e1fd-4509-a523-b1eb0e9619c5 button');\n",
              "      quickchartButtonEl.style.display =\n",
              "        google.colab.kernel.accessAllowed ? 'block' : 'none';\n",
              "    })();\n",
              "  </script>\n",
              "</div>\n",
              "\n",
              "    </div>\n",
              "  </div>\n"
            ],
            "application/vnd.google.colaboratory.intrinsic+json": {
              "type": "dataframe",
              "variable_name": "metadata_df",
              "summary": "{\n  \"name\": \"metadata_df\",\n  \"rows\": 84819,\n  \"fields\": [\n    {\n      \"column\": \"category\",\n      \"properties\": {\n        \"dtype\": \"object\",\n        \"semantic_type\": \"\",\n        \"description\": \"\"\n      }\n    },\n    {\n      \"column\": \"tech1\",\n      \"properties\": {\n        \"dtype\": \"category\",\n        \"num_unique_values\": 2481,\n        \"samples\": [\n          \" class=\\\"a-keyvalue prodDetTable\\\" role=\\\"presentation\\\">\\n         \\n           \\n           \\n           \\n           <tr>\\n            \\n            \\n              \\n              \\n               \\n                <th class=\\\"a-color-secondary a-size-base prodDetSectionEntry\\\">\\n                  Brand Name\\n                </th>\\n                \\n              \\n            \\n            \\n           \\n            <td class=\\\"a-size-base\\\">\\n              RinoGear\\n            </td>\\n            \\n           </tr>\\n           \\n           \\n           \\n           <tr>\\n            \\n            \\n              \\n              \\n               \\n                <th class=\\\"a-color-secondary a-size-base prodDetSectionEntry\\\">\\n                  Hardware Platform\\n                </th>\\n                \\n              \\n            \\n            \\n           \\n            <td class=\\\"a-size-base\\\">\\n              playstation vita\\n            </td>\\n            \\n           </tr>\\n           \\n           \\n           \\n           <tr>\\n            \\n            \\n              \\n              \\n               \\n                <th class=\\\"a-color-secondary a-size-base prodDetSectionEntry\\\">\\n                  Item Weight\\n                </th>\\n                \\n              \\n            \\n            \\n           \\n            <td class=\\\"a-size-base\\\">\\n              1.44 ounces\\n            </td>\\n            \\n           </tr>\\n           \\n           \\n           \\n           <tr>\\n            \\n            \\n              \\n              \\n               \\n                <th class=\\\"a-color-secondary a-size-base prodDetSectionEntry\\\">\\n                  Product Dimensions\\n                </th>\\n                \\n              \\n            \\n            \\n           \\n            <td class=\\\"a-size-base\\\">\\n              4.5 x 2.5 x 0.1 inches\\n            </td>\\n            \\n           </tr>\\n           \\n           \\n           \\n           <tr>\\n            \\n            \\n              \\n              \\n               \\n                <th class=\\\"a-color-secondary a-size-base prodDetSectionEntry\\\">\\n                  Item Dimensions  L x W x H\\n                </th>\\n                \\n              \\n            \\n            \\n           \\n            <td class=\\\"a-size-base\\\">\\n              4.5 x 2.5 x 0.1 inches\\n            </td>\\n            \\n           </tr>\\n           \\n           \\n          \\n        \",\n          \" class=\\\"a-keyvalue prodDetTable\\\" role=\\\"presentation\\\">\\n         \\n           \\n           \\n           \\n           <tr>\\n            \\n            \\n              \\n              \\n               \\n                <th class=\\\"a-color-secondary a-size-base prodDetSectionEntry\\\">\\n                  Brand Name\\n                </th>\\n                \\n              \\n            \\n            \\n           \\n            <td class=\\\"a-size-base\\\">\\n              Premium Controllerz\\n            </td>\\n            \\n           </tr>\\n           \\n           \\n           \\n           <tr>\\n            \\n            \\n              \\n              \\n               \\n                <th class=\\\"a-color-secondary a-size-base prodDetSectionEntry\\\">\\n                  Hardware Platform\\n                </th>\\n                \\n              \\n            \\n            \\n           \\n            <td class=\\\"a-size-base\\\">\\n              xbox 360\\n            </td>\\n            \\n           </tr>\\n           \\n           \\n           \\n           <tr>\\n            \\n            \\n              \\n              \\n               \\n                <th class=\\\"a-color-secondary a-size-base prodDetSectionEntry\\\">\\n                  Item Weight\\n                </th>\\n                \\n              \\n            \\n            \\n           \\n            <td class=\\\"a-size-base\\\">\\n              11.4 ounces\\n            </td>\\n            \\n           </tr>\\n           \\n           \\n           \\n           <tr>\\n            \\n            \\n              \\n              \\n               \\n                <th class=\\\"a-color-secondary a-size-base prodDetSectionEntry\\\">\\n                  Product Dimensions\\n                </th>\\n                \\n              \\n            \\n            \\n           \\n            <td class=\\\"a-size-base\\\">\\n              7.3 x 5.4 x 3.7 inches\\n            </td>\\n            \\n           </tr>\\n           \\n           \\n           \\n           <tr>\\n            \\n            \\n              \\n              \\n               \\n                <th class=\\\"a-color-secondary a-size-base prodDetSectionEntry\\\">\\n                  Item Dimensions  L x W x H\\n                </th>\\n                \\n              \\n            \\n            \\n           \\n            <td class=\\\"a-size-base\\\">\\n              7.3 x 5.4 x 3.7 inches\\n            </td>\\n            \\n           </tr>\\n           \\n           \\n          \\n        \",\n          \" class=\\\"a-keyvalue prodDetTable\\\" role=\\\"presentation\\\">\\n         \\n           \\n           \\n           \\n           <tr>\\n            \\n            \\n              \\n              \\n               \\n                <th class=\\\"a-color-secondary a-size-base prodDetSectionEntry\\\">\\n                  Brand Name\\n                </th>\\n                \\n              \\n            \\n            \\n           \\n            <td class=\\\"a-size-base\\\">\\n              JAMSWALL\\n            </td>\\n            \\n           </tr>\\n           \\n           \\n           \\n           <tr>\\n            \\n            \\n              \\n              \\n               \\n                <th class=\\\"a-color-secondary a-size-base prodDetSectionEntry\\\">\\n                  Hardware Platform\\n                </th>\\n                \\n              \\n            \\n            \\n           \\n            <td class=\\\"a-size-base\\\">\\n              pc, playstation 3\\n            </td>\\n            \\n           </tr>\\n           \\n           \\n           \\n           <tr>\\n            \\n            \\n              \\n              \\n               \\n                <th class=\\\"a-color-secondary a-size-base prodDetSectionEntry\\\">\\n                  Item Weight\\n                </th>\\n                \\n              \\n            \\n            \\n           \\n            <td class=\\\"a-size-base\\\">\\n              0.32 ounces\\n            </td>\\n            \\n           </tr>\\n           \\n           \\n           \\n           <tr>\\n            \\n            \\n              \\n              \\n               \\n                <th class=\\\"a-color-secondary a-size-base prodDetSectionEntry\\\">\\n                  Product Dimensions\\n                </th>\\n                \\n              \\n            \\n            \\n           \\n            <td class=\\\"a-size-base\\\">\\n              8 x 4.8 x 1.9 inches\\n            </td>\\n            \\n           </tr>\\n           \\n           \\n           \\n           <tr>\\n            \\n            \\n              \\n              \\n               \\n                <th class=\\\"a-color-secondary a-size-base prodDetSectionEntry\\\">\\n                  Item Dimensions  L x W x H\\n                </th>\\n                \\n              \\n            \\n            \\n           \\n            <td class=\\\"a-size-base\\\">\\n              7.99 x 4.8 x 1.85 inches\\n            </td>\\n            \\n           </tr>\\n           \\n           \\n           \\n           <tr>\\n            \\n            \\n              \\n              \\n               \\n                <th class=\\\"a-color-secondary a-size-base prodDetSectionEntry\\\">\\n                  Color\\r\\n\\n                </th>\\n                \\n              \\n            \\n            \\n           \\n            <td class=\\\"a-size-base\\\">\\n              red9\\n            </td>\\n            \\n           </tr>\\n           \\n           \\n          \\n        \"\n        ],\n        \"semantic_type\": \"\",\n        \"description\": \"\"\n      }\n    },\n    {\n      \"column\": \"description\",\n      \"properties\": {\n        \"dtype\": \"object\",\n        \"semantic_type\": \"\",\n        \"description\": \"\"\n      }\n    },\n    {\n      \"column\": \"fit\",\n      \"properties\": {\n        \"dtype\": \"object\",\n        \"num_unique_values\": 1,\n        \"samples\": [\n          \"\"\n        ],\n        \"semantic_type\": \"\",\n        \"description\": \"\"\n      }\n    },\n    {\n      \"column\": \"title\",\n      \"properties\": {\n        \"dtype\": \"string\",\n        \"num_unique_values\": 68665,\n        \"samples\": [\n          \"D.Gray-Man: Kami no Shitotachi [Japan Import]\"\n        ],\n        \"semantic_type\": \"\",\n        \"description\": \"\"\n      }\n    },\n    {\n      \"column\": \"also_buy\",\n      \"properties\": {\n        \"dtype\": \"object\",\n        \"semantic_type\": \"\",\n        \"description\": \"\"\n      }\n    },\n    {\n      \"column\": \"tech2\",\n      \"properties\": {\n        \"dtype\": \"category\",\n        \"num_unique_values\": 234,\n        \"samples\": [\n          \" class=\\\"a-keyvalue prodDetTable\\\" role=\\\"presentation\\\">\\n         \\n           \\n           \\n           \\n           <tr>\\n            \\n            \\n              \\n              \\n               \\n                <th class=\\\"a-color-secondary a-size-base prodDetSectionEntry\\\">\\n                  Brand Name\\n                </th>\\n                \\n              \\n            \\n            \\n           \\n            <td class=\\\"a-size-base\\\">\\n              ROCCAT\\n            </td>\\n            \\n           </tr>\\n           \\n           \\n           \\n           <tr>\\n            \\n            \\n              \\n              \\n               \\n                <th class=\\\"a-color-secondary a-size-base prodDetSectionEntry\\\">\\n                  Item model number\\n                </th>\\n                \\n              \\n            \\n            \\n           \\n            <td class=\\\"a-size-base\\\">\\n              ROC-12-851-RD\\n            </td>\\n            \\n           </tr>\\n           \\n           \\n           \\n           <tr>\\n            \\n            \\n              \\n              \\n               \\n                <th class=\\\"a-color-secondary a-size-base prodDetSectionEntry\\\">\\n                  Hardware Platform\\n                </th>\\n                \\n              \\n            \\n            \\n           \\n            <td class=\\\"a-size-base\\\">\\n              PC\\n            </td>\\n            \\n           </tr>\\n           \\n           \\n           \\n           <tr>\\n            \\n            \\n              \\n              \\n               \\n                <th class=\\\"a-color-secondary a-size-base prodDetSectionEntry\\\">\\n                  Item Weight\\n                </th>\\n                \\n              \\n            \\n            \\n           \\n            <td class=\\\"a-size-base\\\">\\n              2 pounds\\n            </td>\\n            \\n           </tr>\\n           \\n           \\n           \\n           <tr>\\n            \\n            \\n              \\n              \\n               \\n                <th class=\\\"a-color-secondary a-size-base prodDetSectionEntry\\\">\\n                  Product Dimensions\\n                </th>\\n                \\n              \\n            \\n            \\n           \\n            <td class=\\\"a-size-base\\\">\\n              20 x 9.2 x 1.5 inches\\n            </td>\\n            \\n           </tr>\\n           \\n           \\n           \\n           <tr>\\n            \\n            \\n              \\n              \\n               \\n                <th class=\\\"a-color-secondary a-size-base prodDetSectionEntry\\\">\\n                  Item Dimensions  L x W x H\\n                </th>\\n                \\n              \\n            \\n            \\n           \\n            <td class=\\\"a-size-base\\\">\\n              20 x 9.21 x 1.5 inches\\n            </td>\\n            \\n           </tr>\\n           \\n           \\n           \\n           <tr>\\n            \\n            \\n              \\n              \\n               \\n                <th class=\\\"a-color-secondary a-size-base prodDetSectionEntry\\\">\\n                  Color\\r\\n\\n                </th>\\n                \\n              \\n            \\n            \\n           \\n            <td class=\\\"a-size-base\\\">\\n              Red\\n            </td>\\n            \\n           </tr>\\n           \\n           \\n          \\n        \"\n        ],\n        \"semantic_type\": \"\",\n        \"description\": \"\"\n      }\n    },\n    {\n      \"column\": \"brand\",\n      \"properties\": {\n        \"dtype\": \"category\",\n        \"num_unique_values\": 9197,\n        \"samples\": [\n          \"HighClassRetro\"\n        ],\n        \"semantic_type\": \"\",\n        \"description\": \"\"\n      }\n    },\n    {\n      \"column\": \"feature\",\n      \"properties\": {\n        \"dtype\": \"object\",\n        \"semantic_type\": \"\",\n        \"description\": \"\"\n      }\n    },\n    {\n      \"column\": \"rank\",\n      \"properties\": {\n        \"dtype\": \"object\",\n        \"semantic_type\": \"\",\n        \"description\": \"\"\n      }\n    },\n    {\n      \"column\": \"also_view\",\n      \"properties\": {\n        \"dtype\": \"object\",\n        \"semantic_type\": \"\",\n        \"description\": \"\"\n      }\n    },\n    {\n      \"column\": \"main_cat\",\n      \"properties\": {\n        \"dtype\": \"category\",\n        \"num_unique_values\": 44,\n        \"samples\": [\n          \"Pet Supplies\"\n        ],\n        \"semantic_type\": \"\",\n        \"description\": \"\"\n      }\n    },\n    {\n      \"column\": \"similar_item\",\n      \"properties\": {\n        \"dtype\": \"category\",\n        \"num_unique_values\": 262,\n        \"samples\": [\n          \" class=\\\"a-bordered a-horizontal-stripes  a-spacing-extra-large a-size-base comparison_table\\\">\\n\\n\\n\\n            \\n            \\n            \\n            \\n            \\n            <tr class=\\\"comparison_table_image_row\\\">\\n                <td class=\\\"comparison_table_first_col\\\"></td>\\n\\n\\n                <th class=\\\"comparison_image_title_cell\\\" role=\\\"columnheader\\\">\\n                    <div class=\\\"a-row a-spacing-top-micro\\\">\\n                        <center>\\n                             <img alt=\\\"KOTION EACH G2200 7.1 Surround USB Super Vibration Gaming Headset with Microphone for PS4 Tablet Laptop (Blue)\\\" src=\\\"https://images-na.ssl-images-amazon.com/images/I/51k4NOKPFaL._SL500_AC_SS350_.jpg\\\" id=\\\"comparison_image\\\">\\n                        </center>\\n                    </div>\\n                    <div class=\\\"a-row a-spacing-top-small\\\">\\n                        <div id=\\\"comparison_title\\\" class=\\\"a-section a-spacing-none\\\">\\n                            <span aria-hidden=\\\"true\\\" class=\\\"a-size-base a-color-base a-text-bold\\\">\\n                                This item\\n                            </span>\\n                            <span aria-hidden=\\\"true\\\" class=\\\"a-size-base a-color-base\\\">KOTION EACH G2200 7.1 Surround USB Super Vibration Gaming Headset with Microphone for PS4 Tablet Laptop (Blue)</span>\\n                        </div>\\n                        \\n                        \\n                    </div>\\n                </th>\\n\\n\\n                \\n                    <th class=\\\"comparison_image_title_cell comparable_item0\\\" role=\\\"columnheader\\\">\\n                        <a class=\\\"a-link-normal\\\" target=\\\"_self\\\" rel=\\\"noopener\\\" href=\\\"/dp/B01H6GUCCQ/ref=psdc_172487_t1_B01F8CXV0U\\\">\\n                          <div class=\\\"a-row a-spacing-top-micro\\\">\\n                            <center>\\n                                <img alt=\\\"\\\" src=\\\"https://images-na.ssl-images-amazon.com/images/I/51b40-n8tbL._SL500_AC_SS350_.jpg\\\" aria-hidden=\\\"true\\\" id=\\\"comparison_image0\\\">\\n                            </center>\\n                          </div>\\n                          <div id=\\\"comparison_title0\\\" class=\\\"a-row a-spacing-top-small\\\">\\n                            <span class=\\\"a-size-base\\\">BENGOO G9000 Stereo Gaming Headset for PS4, PC, Xbox One Controller, Noise Cancelling Over Ear Headphones with Mic, LED Light, Bass Surround, Soft Memory Earmuffs for Laptop Mac Nintendo Switch Games</span>\\n                          </div>\\n                        </a>\\n                        \\n                        \\n                            \\n                            <div id=\\\"comparison_zeitgeist_section0\\\" class=\\\"a-row a-spacing-none a-spacing-top-micro\\\">\\n                                \\n\\n\\n\\n\\n\\n\\n\\n\\n\\n\\n\\n<a class=\\\"comparison_zeitgeist\\\"\\n        href=\\\"/gp/bestsellers/electronics/402053011/ref=psdczbs_172487_t1_B01F8CXV0U\\\"\\n        title=\\\"PC Game Headsets\\\">\\n    <i class=\\\"a-icon a-icon-addon comparison_zeitgeist_badge\\\"><span class=\\\"a-text-normal\\\">\\n        #1 Best Seller\\n    </span></i>\\n    \\n    \\n</a>\\n\\n                            </div>\\n                        \\n                    </th>\\n                \\n                    <th class=\\\"comparison_image_title_cell comparable_item1\\\" role=\\\"columnheader\\\">\\n                        <a class=\\\"a-link-normal\\\" target=\\\"_self\\\" rel=\\\"noopener\\\" href=\\\"/dp/B01A73ZIL0/ref=psdc_172487_t2_B01F8CXV0U\\\">\\n                          <div class=\\\"a-row a-spacing-top-micro\\\">\\n                            <center>\\n                                <img alt=\\\"\\\" src=\\\"https://images-na.ssl-images-amazon.com/images/I/41AB0FdYl9L._SL500_AC_SS350_.jpg\\\" aria-hidden=\\\"true\\\" id=\\\"comparison_image1\\\">\\n                            </center>\\n                          </div>\\n                          <div id=\\\"comparison_title1\\\" class=\\\"a-row a-spacing-top-small\\\">\\n                            <span class=\\\"a-size-base\\\">USB Gaming Headset-SADES A60/OMG Computer Over Ear Stereo Heaphones with Microphone Noise Isolating Volume Control LED Light (Black+White) for PC & MAC</span>\\n                          </div>\\n                        </a>\\n                        \\n                        \\n                    </th>\\n                \\n                    <th class=\\\"comparison_image_title_cell comparable_item2\\\" role=\\\"columnheader\\\">\\n                        <a class=\\\"a-link-normal\\\" target=\\\"_self\\\" rel=\\\"noopener\\\" href=\\\"/dp/B01NAFR609/ref=psdc_172487_t3_B01F8CXV0U\\\">\\n                          <div class=\\\"a-row a-spacing-top-micro\\\">\\n                            <center>\\n                                <img alt=\\\"\\\" src=\\\"https://images-na.ssl-images-amazon.com/images/I/51pFyonSLqL._SL500_AC_SS350_.jpg\\\" aria-hidden=\\\"true\\\" id=\\\"comparison_image2\\\">\\n                            </center>\\n                          </div>\\n                          <div id=\\\"comparison_title2\\\" class=\\\"a-row a-spacing-top-small\\\">\\n                            <span class=\\\"a-size-base\\\">SADES A60 Wired 7.1 Surround Sound Gaming Headset USB Headphone</span>\\n                          </div>\\n                        </a>\\n                        \\n                        \\n                    </th>\\n                \\n            </tr>\\n\\n\\n            <tr></tr>\\n\\n\\n            \\n            \\n            <tr>\\n                <td class=\\\"comparison_table_first_col\\\"></td>\\n\\n\\n                <td class=\\\"comparison_add_to_cart_button\\\">\\n                    \\n                        \\n                            \\n                        \\n                        \\n                        \\n                    \\n                </td>\\n\\n\\n                \\n                    <td class=\\\"a-text-left comparison_add_to_cart_button comparable_item0\\\">\\n                        \\n                            \\n                            \\n                                <span id=\\\"comparison_add_to_cart_button0\\\" class=\\\"a-button a-spacing-small a-button-primary\\\"><span class=\\\"a-button-inner\\\"><a id=\\\"comparison_add_to_cart_button0-announce\\\" href=\\\"/gp/item-dispatch/ref=psdc_172487_a1_B01F8CXV0U?ie=UTF8&amp;itemCount=1&amp;nodeID=541966&amp;offeringID.1=5Xq5Or%252F4hAWmhA3Dv5hhYVuzeDYGdmyBObVxio5C26A92j5PPuWHxIHWrC0KoJDHhZNhOSyHwdTWiZ7%252FaUbMIpihjFpluEX1YLxkVRkh%252BGnl10QM6aWEXzX%252FVziXqixIPyJnWm3lYJqBDzUqOLda7wqexEhPO1tL&amp;storeID=pc&amp;session-id=145-3861210-4361441&amp;submit.addToCart=addToCart&amp;signInToHUC=0\\\" class=\\\"a-button-text\\\" role=\\\"button\\\">Add to Cart</a></span></span>\\n                            \\n                        \\n                    </td>\\n                \\n                    <td class=\\\"a-text-left comparison_add_to_cart_button comparable_item1\\\">\\n                        \\n                            \\n                            \\n                                <span id=\\\"comparison_add_to_cart_button1\\\" class=\\\"a-button a-spacing-small a-button-primary\\\"><span class=\\\"a-button-inner\\\"><a id=\\\"comparison_add_to_cart_button1-announce\\\" href=\\\"/gp/item-dispatch/ref=psdc_172487_a2_B01F8CXV0U?ie=UTF8&amp;itemCount=1&amp;nodeID=541966&amp;offeringID.1=Cpe3Y0%252BhhBIHdIKYkDl%252FhRvwgv2ZTDZtSpW4tFV0bTd63pl%252Fz%252BtTwJtwd1qFZihZVl7fDMM3yVePpVsWNm49St%252BvtRfxH7GADuSRmUZkzjCzyUl5pVXO619lVMwkjW6vKn4ukV2NS9RKyuw9FLB%252BkMiQeVgrwZ%252BJ&amp;storeID=pc&amp;session-id=145-3861210-4361441&amp;submit.addToCart=addToCart&amp;signInToHUC=0\\\" class=\\\"a-button-text\\\" role=\\\"button\\\">Add to Cart</a></span></span>\\n                            \\n                        \\n                    </td>\\n                \\n                    <td class=\\\"a-text-left comparison_add_to_cart_button comparable_item2\\\">\\n                        \\n                            \\n                            \\n                                <span id=\\\"comparison_add_to_cart_button2\\\" class=\\\"a-button a-spacing-small a-button-primary\\\"><span class=\\\"a-button-inner\\\"><a id=\\\"comparison_add_to_cart_button2-announce\\\" href=\\\"/gp/item-dispatch/ref=psdc_172487_a3_B01F8CXV0U?ie=UTF8&amp;itemCount=1&amp;nodeID=541966&amp;offeringID.1=Cpe3Y0%252BhhBIHdIKYkDl%252FhVp8wCpaUpLKVG9q1u95SZs5tgu74Ftxl67EkfDdaxt5q5qWkdG6jXNK19vzy%252F01ApSQp4OUCH%252BkYD2aRno%252B%252BKqwH8nzj1hDEJG6tKVBZCtDVPwSC%252FfskXeC6KuVzTzd54a3%252FIMolgDq&amp;storeID=pc&amp;session-id=145-3861210-4361441&amp;submit.addToCart=addToCart&amp;signInToHUC=0\\\" class=\\\"a-button-text\\\" role=\\\"button\\\">Add to Cart</a></span></span>\\n                            \\n                        \\n                    </td>\\n                \\n            </tr>\\n\\n\\n            <tr id=\\\"comparison_custormer_rating_row\\\">\\n                \\n                \\n                \\n                \\n\\n                <th class=\\\"comparison_attribute_name_column comparison_table_first_col\\\" role=\\\"rowheader\\\">\\n                    <span class=\\\"a-size-base a-color-base\\\">Customer Rating</span>\\n                </th>\\n\\n\\n                <td class=\\\"comparison_baseitem_column\\\">\\n                    \\n                    \\n                    \\n                    <span>\\n                        <span class=\\\"a-declarative\\\" data-action=\\\"a-popover\\\" data-a-popover=\\\"{&quot;max-width&quot;:&quot;700&quot;,&quot;closeButton&quot;:&quot;false&quot;,&quot;position&quot;:&quot;triggerBottom&quot;,&quot;url&quot;:&quot; /gp/customer-reviews/widgets/average-customer-review/popover/ref=acr_dpComparsion__popover?contextId=dpComparsion&amp;asin=B01F8CXV0U &quot;,&quot;restoreFocusOnHide&quot;:&quot;false&quot;}\\\">\\n                            <i class=\\\"a-icon a-icon-star a-star-1 a-spacing-none\\\"><span class=\\\"a-icon-alt\\\">1 out of 5 stars</span></i>\\n                        </span>\\n                        <a class=\\\"a-link-normal\\\" target=\\\"_self\\\" rel=\\\"noopener\\\" href=\\\"/product-reviews/B01F8CXV0U/ref=psdc_172487_r0_B01F8CXV0U?_encoding=UTF8&amp;showViewpoints=1\\\">(2)</a>\\n                        <span class=\\\"a-letter-space\\\"></span>\\n                    </span>\\n                </td>\\n\\n\\n                \\n                    <td class=\\\"comparison_sim_items_column comparable_item0\\\">\\n                        \\n                        \\n                        \\n                        <span>\\n                            <span class=\\\"a-declarative\\\" data-action=\\\"a-popover\\\" data-a-popover=\\\"{&quot;max-width&quot;:&quot;700&quot;,&quot;closeButton&quot;:&quot;false&quot;,&quot;position&quot;:&quot;triggerBottom&quot;,&quot;url&quot;:&quot; /gp/customer-reviews/widgets/average-customer-review/popover/ref=acr_dpComparsion__popover?contextId=dpComparsion&amp;asin=B01H6GUCCQ &quot;,&quot;restoreFocusOnHide&quot;:&quot;false&quot;}\\\">\\n                                <i class=\\\"a-icon a-icon-star a-star-4 a-spacing-none\\\"><span class=\\\"a-icon-alt\\\">4 out of 5 stars</span></i>\\n                            </span>\\n                            <a class=\\\"a-link-normal\\\" target=\\\"_self\\\" rel=\\\"noopener\\\" href=\\\"/product-reviews/B01H6GUCCQ/ref=psdc_172487_r1_B01F8CXV0U?_encoding=UTF8&amp;showViewpoints=1\\\">(5661)</a>\\n                            <span class=\\\"a-letter-space\\\"></span>\\n                        </span>\\n                    </td>\\n                \\n                    <td class=\\\"comparison_sim_items_column comparable_item1\\\">\\n                        \\n                        \\n                        \\n                        <span>\\n                            <span class=\\\"a-declarative\\\" data-action=\\\"a-popover\\\" data-a-popover=\\\"{&quot;max-width&quot;:&quot;700&quot;,&quot;closeButton&quot;:&quot;false&quot;,&quot;position&quot;:&quot;triggerBottom&quot;,&quot;url&quot;:&quot; /gp/customer-reviews/widgets/average-customer-review/popover/ref=acr_dpComparsion__popover?contextId=dpComparsion&amp;asin=B01A73ZIL0 &quot;,&quot;restoreFocusOnHide&quot;:&quot;false&quot;}\\\">\\n                                <i class=\\\"a-icon a-icon-star a-star-4 a-spacing-none\\\"><span class=\\\"a-icon-alt\\\">4 out of 5 stars</span></i>\\n                            </span>\\n                            <a class=\\\"a-link-normal\\\" target=\\\"_self\\\" rel=\\\"noopener\\\" href=\\\"/product-reviews/B01A73ZIL0/ref=psdc_172487_r2_B01F8CXV0U?_encoding=UTF8&amp;showViewpoints=1\\\">(1301)</a>\\n                            <span class=\\\"a-letter-space\\\"></span>\\n                        </span>\\n                    </td>\\n                \\n                    <td class=\\\"comparison_sim_items_column comparable_item2\\\">\\n                        \\n                        \\n                        \\n                        <span>\\n                            <span class=\\\"a-declarative\\\" data-action=\\\"a-popover\\\" data-a-popover=\\\"{&quot;max-width&quot;:&quot;700&quot;,&quot;closeButton&quot;:&quot;false&quot;,&quot;position&quot;:&quot;triggerBottom&quot;,&quot;url&quot;:&quot; /gp/customer-reviews/widgets/average-customer-review/popover/ref=acr_dpComparsion__popover?contextId=dpComparsion&amp;asin=B01NAFR609 &quot;,&quot;restoreFocusOnHide&quot;:&quot;false&quot;}\\\">\\n                                <i class=\\\"a-icon a-icon-star a-star-4 a-spacing-none\\\"><span class=\\\"a-icon-alt\\\">4 out of 5 stars</span></i>\\n                            </span>\\n                            <a class=\\\"a-link-normal\\\" target=\\\"_self\\\" rel=\\\"noopener\\\" href=\\\"/product-reviews/B01NAFR609/ref=psdc_172487_r3_B01F8CXV0U?_encoding=UTF8&amp;showViewpoints=1\\\">(133)</a>\\n                            <span class=\\\"a-letter-space\\\"></span>\\n                        </span>\\n                    </td>\\n                \\n            </tr>\\n\\n\\n            <tr id=\\\"comparison_price_row\\\">\\n                <th class=\\\"comparison_attribute_name_column comparison_table_first_col\\\" role=\\\"rowheader\\\">\\n                    <span class=\\\"a-size-base a-color-base\\\">Price</span>\\n                </th>\\n\\n\\n                <td class=\\\"comparison_baseitem_column\\\">\\n                    \\n                        \\n                            \\n                                \\n                                \\n                                    <span class=\\\"a-color-price a-text-bold\\\">\\n                                        Unavailable\\n                                    </span>\\n                                \\n                            \\n                        \\n                        \\n                        \\n                        \\n                    \\n                </td>\\n\\n\\n                \\n                    <td class=\\\"comparison_sim_items_column comparable_item0\\\">\\n                    \\n                        \\n                        \\n                        \\n                            \\n                                \\n                                    <span class=\\\"a-price\\\" data-a-size=\\\"l\\\" data-a-color=\\\"base\\\"><span class=\\\"a-offscreen\\\">$24.99</span><span aria-hidden=\\\"true\\\"><span class=\\\"a-price-symbol\\\">$</span><span class=\\\"a-price-whole\\\">24<span class=\\\"a-price-decimal\\\">\\u0000</span></span><span class=\\\"a-price-fraction\\\">99</span></span></span>\\n                                \\n                                \\n                            \\n                        \\n                    \\n                    </td>\\n                \\n                    <td class=\\\"comparison_sim_items_column comparable_item1\\\">\\n                    \\n                        \\n                        \\n                        \\n                            \\n                                \\n                                    <span class=\\\"a-price\\\" data-a-size=\\\"l\\\" data-a-color=\\\"base\\\"><span class=\\\"a-offscreen\\\">$24.99</span><span aria-hidden=\\\"true\\\"><span class=\\\"a-price-symbol\\\">$</span><span class=\\\"a-price-whole\\\">24<span class=\\\"a-price-decimal\\\">\\u0000</span></span><span class=\\\"a-price-fraction\\\">99</span></span></span>\\n                                \\n                                \\n                            \\n                        \\n                    \\n                    </td>\\n                \\n                    <td class=\\\"comparison_sim_items_column comparable_item2\\\">\\n                    \\n                        \\n                        \\n                        \\n                            \\n                                \\n                                    <span class=\\\"a-price\\\" data-a-size=\\\"l\\\" data-a-color=\\\"base\\\"><span class=\\\"a-offscreen\\\">$69.99</span><span aria-hidden=\\\"true\\\"><span class=\\\"a-price-symbol\\\">$</span><span class=\\\"a-price-whole\\\">69<span class=\\\"a-price-decimal\\\">\\u0000</span></span><span class=\\\"a-price-fraction\\\">99</span></span></span>\\n                                \\n                                \\n                            \\n                        \\n                    \\n                    </td>\\n                \\n            </tr>\\n\\n\\n    \\n                <tr id=\\\"comparison_shipping_info_row\\\">\\n                    <th class=\\\"comparison_attribute_name_column comparison_table_first_col\\\" role=\\\"rowheader\\\">\\n                        <span class=\\\"a-size-base a-color-base\\\">Shipping</span>\\n                    </th>\\n\\n    \\n                    <td class=\\\"comparison_baseitem_column\\\">\\n                        \\n                            \\n                                <span class=\\\"a-color-secondary\\\"></span>\\n                            \\n                            \\n                            \\n                            \\n                            \\n                            \\n                            \\n                        \\n                    </td>\\n\\n    \\n                    \\n                        <td class=\\\"comparison_sim_items_column comparable_item0\\\">\\n                            \\n                                \\n                                \\n                                    <span class=\\\"a-size-base a-color-base\\\">Eligible for FREE Shipping</span>\\n                                \\n                                \\n                                \\n                                \\n                                \\n                            \\n                        </td>\\n                    \\n                        <td class=\\\"comparison_sim_items_column comparable_item1\\\">\\n                            \\n                                \\n                                \\n                                    <span class=\\\"a-size-base a-color-base\\\">Eligible for FREE Shipping</span>\\n                                \\n                                \\n                                \\n                                \\n                                \\n                            \\n                        </td>\\n                    \\n                        <td class=\\\"comparison_sim_items_column comparable_item2\\\">\\n                            \\n                                \\n                                \\n                                    <span class=\\\"a-size-base a-color-base\\\">Eligible for FREE Shipping</span>\\n                                \\n                                \\n                                \\n                                \\n                                \\n                            \\n                        </td>\\n                    \\n                </tr>\\n\\n\\n\\n            <tr id=\\\"comparison_sold_by_row\\\">\\n                <th class=\\\"comparison_attribute_name_column comparison_table_first_col\\\" role=\\\"rowheader\\\">\\n                    <span class=\\\"a-size-base a-color-base\\\">Sold By</span>\\n                </th>\\n\\n  \\n                <td class=\\\"comparison_baseitem_column\\\">\\n                    \\n                        \\n                            \\n                                \\n                                \\n                                    <span class=\\\"a-color-secondary\\\">\\n                                        \\n                                    </span>\\n                                \\n                            \\n                        \\n                        \\n                        \\n                     \\n                </td>\\n\\n\\n                \\n                    <td class=\\\"comparison_sim_items_column comparable_item0\\\">\\n                         \\n                            \\n                         \\n                             <a class=\\\"a-spacing-top-small a-link-normal\\\" target=\\\"_self\\\" rel=\\\"noopener\\\" href=\\\"/gp/help/seller/at-a-glance.html/ref=psdc_172487_s1_B01F8CXV0U?ie=UTF8&amp;seller=A1BCXRJQ9212UU&amp;isAmazonFulfilled=1\\\">Bengoo Inc.</a>\\n                         \\n                         \\n                     </td>\\n                \\n                    <td class=\\\"comparison_sim_items_column comparable_item1\\\">\\n                         \\n                            \\n                         \\n                             <a class=\\\"a-spacing-top-small a-link-normal\\\" target=\\\"_self\\\" rel=\\\"noopener\\\" href=\\\"/gp/help/seller/at-a-glance.html/ref=psdc_172487_s2_B01F8CXV0U?ie=UTF8&amp;seller=A3GRURY5RYWGPU&amp;isAmazonFulfilled=1\\\">GAMERS WORLD</a>\\n                         \\n                         \\n                     </td>\\n                \\n                    <td class=\\\"comparison_sim_items_column comparable_item2\\\">\\n                         \\n                            \\n                         \\n                             <a class=\\\"a-spacing-top-small a-link-normal\\\" target=\\\"_self\\\" rel=\\\"noopener\\\" href=\\\"/gp/help/seller/at-a-glance.html/ref=psdc_172487_s3_B01F8CXV0U?ie=UTF8&amp;seller=A3GRURY5RYWGPU\\\">GAMERS WORLD</a>\\n                         \\n                         \\n                     </td>\\n                \\n             </tr>\\n\\n\\n            \\n                <tr>\\n                    <th class=\\\"a-span3 comparison_attribute_name_column comparison_table_first_col\\\" role=\\\"rowheader\\\">\\n                        <span class=\\\"a-size-base a-color-base\\\">Item Dimensions</span>\\n                    </th>\\n                    \\n\\n                    <td class=\\\"comparison_baseitem_column\\\">\\n                     \\n                        \\n                            \\n                            \\n                                 <span class=\\\"a-size-base a-color-base\\\">9.1 x 8.2 x 4.8 in</span>\\n                            \\n                        \\n                    </td>\\n\\n\\n                    \\n                        <td class=\\\"comparison_sim_items_column comparable_item0\\\">\\n                            \\n                            \\n                            \\n                               \\n                                  \\n                                  \\n                                      <span class=\\\"a-size-base a-color-base\\\">8.3 x 4.4 x 7.9 in</span>\\n                                  \\n                               \\n                        </td>\\n                    \\n                        <td class=\\\"comparison_sim_items_column comparable_item1\\\">\\n                            \\n                            \\n                            \\n                               \\n                                  \\n                                  \\n                                      <span class=\\\"a-size-base a-color-base\\\">8.7 x 4.2 x 7 in</span>\\n                                  \\n                               \\n                        </td>\\n                    \\n                        <td class=\\\"comparison_sim_items_column comparable_item2\\\">\\n                            \\n                            \\n                            \\n                               \\n                                  \\n                                  \\n                                      <span class=\\\"a-size-base a-color-base\\\">8.5 x 7 x 4 in</span>\\n                                  \\n                               \\n                        </td>\\n                    \\n                </tr>\\n            \\n       \"\n        ],\n        \"semantic_type\": \"\",\n        \"description\": \"\"\n      }\n    },\n    {\n      \"column\": \"date\",\n      \"properties\": {\n        \"dtype\": \"category\",\n        \"num_unique_values\": 2544,\n        \"samples\": [\n          \"August 20, 2006\"\n        ],\n        \"semantic_type\": \"\",\n        \"description\": \"\"\n      }\n    },\n    {\n      \"column\": \"price\",\n      \"properties\": {\n        \"dtype\": \"category\",\n        \"num_unique_values\": 4017,\n        \"samples\": [\n          \"$48.98\"\n        ],\n        \"semantic_type\": \"\",\n        \"description\": \"\"\n      }\n    },\n    {\n      \"column\": \"asin\",\n      \"properties\": {\n        \"dtype\": \"string\",\n        \"num_unique_values\": 71911,\n        \"samples\": [\n          \"B015467N40\"\n        ],\n        \"semantic_type\": \"\",\n        \"description\": \"\"\n      }\n    },\n    {\n      \"column\": \"imageURL\",\n      \"properties\": {\n        \"dtype\": \"object\",\n        \"semantic_type\": \"\",\n        \"description\": \"\"\n      }\n    },\n    {\n      \"column\": \"imageURLHighRes\",\n      \"properties\": {\n        \"dtype\": \"object\",\n        \"semantic_type\": \"\",\n        \"description\": \"\"\n      }\n    },\n    {\n      \"column\": \"details\",\n      \"properties\": {\n        \"dtype\": \"object\",\n        \"semantic_type\": \"\",\n        \"description\": \"\"\n      }\n    }\n  ]\n}"
            }
          },
          "metadata": {},
          "execution_count": 6
        }
      ]
    },
    {
      "cell_type": "markdown",
      "source": [
        "Note que o dataset é muito grande e certas manipulações podem não caber na memória RAM. Além disso, alguns desses dados podem ser de baixa qualidade. Esses dados podem ser filtrados e você pode considerar apenas os dados de maior qualidade. Alguns filtros básicos:"
      ],
      "metadata": {
        "id": "52YoMOkS7SPe"
      }
    },
    {
      "cell_type": "code",
      "source": [
        "reviews_df_filtrado = reviews_df.copy()\n",
        "\n",
        "# Conversão do unixReviewTime para um formato de data legível\n",
        "reviews_df_filtrado['reviewDate'] = pd.to_datetime(reviews_df_filtrado['unixReviewTime'], unit='s')\n",
        "\n",
        "# Removendo duplicatas e valores nulos\n",
        "reviews_df_filtrado.dropna(subset=['reviewerID', 'asin', 'overall'], inplace=True)\n",
        "reviews_df_filtrado.drop(['unixReviewTime', 'reviewTime'], axis=1, inplace=True)"
      ],
      "metadata": {
        "id": "v6nPUom3AKs9"
      },
      "execution_count": null,
      "outputs": []
    },
    {
      "cell_type": "code",
      "source": [
        "# Removendo duplicatas e valores nulos\n",
        "metadata_df.drop_duplicates(subset=['asin'], inplace=True)\n",
        "metadata_df.dropna(subset=['asin', 'title'], inplace=True)"
      ],
      "metadata": {
        "id": "5qPLed4fBVoc"
      },
      "execution_count": null,
      "outputs": []
    },
    {
      "cell_type": "code",
      "source": [
        "# Identificando os IDs de produtos únicos em metadata_df\n",
        "produtos_validos = set(metadata_df['asin'])\n",
        "\n",
        "# Filtrando reviews_df para manter apenas as linhas com produtos que estão em metadata_df\n",
        "reviews_df_filtrado = reviews_df_filtrado[reviews_df_filtrado['asin'].isin(produtos_validos)]\n",
        "\n",
        "# Verificando o resultado\n",
        "print(f\"Número original de linhas em reviews_df: {len(reviews_df)}\")\n",
        "print(f\"Número de linhas após a filtragem: {len(reviews_df_filtrado)}\")\n",
        "reviews_df = reviews_df_filtrado"
      ],
      "metadata": {
        "colab": {
          "base_uri": "https://localhost:8080/"
        },
        "id": "EHBiKmWGBXtG",
        "outputId": "0078bb3e-632e-4c4f-cb1b-cde271973567"
      },
      "execution_count": null,
      "outputs": [
        {
          "output_type": "stream",
          "name": "stdout",
          "text": [
            "Número original de linhas em reviews_df: 497577\n",
            "Número de linhas após a filtragem: 496315\n"
          ]
        }
      ]
    },
    {
      "cell_type": "code",
      "source": [
        "# Identificando os IDs de produtos únicos em reviews_df\n",
        "produtos_validos = set(reviews_df['asin'])\n",
        "\n",
        "# Filtrando metadata_df para manter apenas as linhas com produtos que estão em reviews_df\n",
        "metadata_df_filtrado = metadata_df[metadata_df['asin'].isin(produtos_validos)]\n",
        "\n",
        "# Verificando o resultado\n",
        "print(f\"Número original de linhas em metadata_df: {len(metadata_df)}\")\n",
        "print(f\"Número de linhas após a filtragem: {len(metadata_df_filtrado)}\")\n",
        "metadata_df = metadata_df_filtrado"
      ],
      "metadata": {
        "colab": {
          "base_uri": "https://localhost:8080/"
        },
        "id": "y5JsKsKMB1Ms",
        "outputId": "77c23018-67e1-4395-e95a-b7a062160d14"
      },
      "execution_count": null,
      "outputs": [
        {
          "output_type": "stream",
          "name": "stdout",
          "text": [
            "Número original de linhas em metadata_df: 71911\n",
            "Número de linhas após a filtragem: 17389\n"
          ]
        }
      ]
    },
    {
      "cell_type": "markdown",
      "source": [
        "## Resolução"
      ],
      "metadata": {
        "id": "G-USMV2ANWLC"
      }
    },
    {
      "cell_type": "markdown",
      "source": [
        "- **Análise e preparação dos dados (0,5 pontos)**"
      ],
      "metadata": {
        "id": "nbIwbINKGOGC"
      }
    },
    {
      "cell_type": "code",
      "source": [
        "# Realize análise prévia dos dados. Prepare-os aplicando filtros e selecionando features relevantes.\n",
        "\n",
        "# Insira comentários no decorrer do código"
      ],
      "metadata": {
        "id": "j8fsuiaYGSZO"
      },
      "execution_count": null,
      "outputs": []
    },
    {
      "cell_type": "markdown",
      "source": [
        "- **a) (2,0 pontos) Modelo de recomendação com filtragem colaborativa**"
      ],
      "metadata": {
        "id": "NiZS3DUWGSwf"
      }
    },
    {
      "cell_type": "code",
      "source": [
        "# Implemente um sistema de recomendação utilizando filtragem colaborativa\n",
        "\n",
        "# Insira comentários no decorrer do código"
      ],
      "metadata": {
        "id": "l7ZUSsc5GUzF"
      },
      "execution_count": null,
      "outputs": []
    },
    {
      "cell_type": "markdown",
      "source": [
        "- **b) (2,0 pontos) Modelo de recomendação baseado em conteúdo**"
      ],
      "metadata": {
        "id": "cTnpALjyGVZT"
      }
    },
    {
      "cell_type": "code",
      "source": [
        "# Implemente um sistema de recomendação baseado em conteúdo\n",
        "\n",
        "# Insira comentários no decorrer do código"
      ],
      "metadata": {
        "id": "WrdvK8HsGWiv"
      },
      "execution_count": null,
      "outputs": []
    },
    {
      "cell_type": "markdown",
      "source": [
        "- **c) (2,0 pontos) Modelo de recomendação aplicando a redução da dimensionalidade**"
      ],
      "metadata": {
        "id": "LLgvj2yvGWwd"
      }
    },
    {
      "cell_type": "code",
      "source": [
        "# Implemente um sistema de recomendação aplicando a redução da dimensionalidade\n",
        "\n",
        "# Insira comentários no decorrer do código"
      ],
      "metadata": {
        "id": "j6NF8F8DGXgT"
      },
      "execution_count": null,
      "outputs": []
    },
    {
      "cell_type": "markdown",
      "source": [
        "- **(2,0 pontos) Análise das métricas**"
      ],
      "metadata": {
        "id": "iIWOmS0OgSJQ"
      }
    },
    {
      "cell_type": "code",
      "source": [
        "# Calcule e informe as métricas para cada um dos modelos de recomendação desenvolvidos\n",
        "\n",
        "# Utilize gráficos e tabelas sempre que considerar interessante"
      ],
      "metadata": {
        "id": "fNitDdpKgVzp"
      },
      "execution_count": null,
      "outputs": []
    },
    {
      "cell_type": "markdown",
      "source": [
        "- **Conclusões (1,5 pontos)**"
      ],
      "metadata": {
        "id": "zKKnbfOIHMDA"
      }
    },
    {
      "cell_type": "markdown",
      "source": [
        "Insira suas conclusões aqui.\n",
        "\n",
        "Dica: Informe as conclusões obtidas. Compare os valores das métricas obtidas entre os modelos e justifique qual seria o melhor modelo a ser utilizado no momento. Foque em convencer o gestor de que os seus modelos de recomendações são bons e qual seria o melhor a ser utilizado apresentando o motivo/justificativa."
      ],
      "metadata": {
        "id": "QbENwF0qg6hF"
      }
    }
  ]
}