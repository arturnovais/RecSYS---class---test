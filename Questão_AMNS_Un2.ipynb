{
 "cells": [
  {
   "cell_type": "markdown",
   "metadata": {
    "id": "HNCcuvO6NPsC"
   },
   "source": [
    "## Informações sobre o aluno:"
   ]
  },
  {
   "cell_type": "code",
   "execution_count": null,
   "metadata": {},
   "outputs": [],
   "source": []
  },
  {
   "cell_type": "markdown",
   "metadata": {
    "id": "7m0ykzA2NMcw"
   },
   "source": [
    "Nomes: Artur Matos Andrade Novais e Gustavo Luiz Bueno Pereira\n",
    "\n",
    "Matrícula: 202202431 e 202202444"
   ]
  },
  {
   "cell_type": "markdown",
   "metadata": {
    "id": "wElPv96wNSbW"
   },
   "source": [
    "# Questão 1"
   ]
  },
  {
   "cell_type": "markdown",
   "metadata": {
    "id": "7aTCDlfNNZJ-"
   },
   "source": [
    "Você foi convidado para participar de um projeto de uma empresa BIA Technologies, uma empresa voltada para o comércio de jogos para video-games e computadores. Esse projeto conta com uma equipe de sistemas de recomendação, na qual você foi convidado a participar. Dessa forma, você irá auxiliar o desenvolvimento de um sistema de recomendação para essa empresa.\n",
    "\n",
    "Considere o dataset fornecido pela empresa e faça uma análise básica desse dataset. Em seguida, utilize seus conhecimentos para desenvolver e avaliar três diferentes sistemas de recomendação da seguinte forma:\n",
    "\n",
    "a) Desenvolva um sistema de recomendação utilizando filtragem colaborativa (sem realizar a redução da dimensionalidade dos dados);\n",
    "\n",
    "b) Desenvolva um sistema de recomendação baseado em conteúdo (sem realizar a redução da dimensionalidade dos dados);\n",
    "\n",
    "c) Desenvolva um sistema de recomendação utilizando a redução da dimensionalidade dos dados.\n",
    "\n",
    "Forneça as métricas de avaliações para cada um dos sistemas. Conclua suas observações de forma a convencer o gestor do projeto sobre qual foi o melhor sistema de recomendação obtido até o momento.\n",
    "\n",
    "**Entrega da resolução da prova: dia 03/12/2024 até as 23:59, via SIGAA.**"
   ]
  },
  {
   "cell_type": "markdown",
   "metadata": {
    "id": "LVAKu7nQjNNL"
   },
   "source": [
    "**Obs.:** A outra equipe de sistemas de recomendação da empresa BIA Technologies apresentou uma solução atingindo as métricas abaixo. Seu sistema deverá fornecer métricas melhores que as obtidas pela outra equipe (baseline):\n",
    "\n",
    "'ndcg@5' = 0.0016818836315317604\n",
    "\n",
    "'ndcg@10' = 0.003073280417540927\n",
    "\n",
    "'precision@5' = 0.00016758439071103669\n",
    "\n",
    "'precision@10' = 8.379219535551834e-05"
   ]
  },
  {
   "cell_type": "markdown",
   "metadata": {
    "id": "WO2gqsqDrkDa"
   },
   "source": [
    "# Conjunto de Dados"
   ]
  },
  {
   "cell_type": "markdown",
   "metadata": {},
   "source": [
    "## Carregar"
   ]
  },
  {
   "cell_type": "code",
   "execution_count": 187,
   "metadata": {
    "id": "M3HwmoWOrnEm"
   },
   "outputs": [],
   "source": [
    "import os\n",
    "import json\n",
    "import gzip \n",
    "import pandas as pd\n"
   ]
  },
  {
   "cell_type": "code",
   "execution_count": 188,
   "metadata": {
    "colab": {
     "base_uri": "https://localhost:8080/"
    },
    "id": "kmf5VOy7rqG1",
    "outputId": "f1f701f2-0a9b-4ead-f214-c9c90725b1c4"
   },
   "outputs": [],
   "source": [
    "# !wget https://datarepo.eng.ucsd.edu/mcauley_group/data/amazon_v2/categoryFilesSmall/Video_Games_5.json.gz"
   ]
  },
  {
   "cell_type": "code",
   "execution_count": 189,
   "metadata": {
    "colab": {
     "base_uri": "https://localhost:8080/"
    },
    "id": "e5g-UmgfrqC8",
    "outputId": "d57355b1-0a32-4717-e714-cd7885f8e246"
   },
   "outputs": [],
   "source": [
    "# !wget https://datarepo.eng.ucsd.edu/mcauley_group/data/amazon_v2/metaFiles2/meta_Video_Games.json.gz"
   ]
  },
  {
   "cell_type": "code",
   "execution_count": 190,
   "metadata": {
    "colab": {
     "base_uri": "https://localhost:8080/"
    },
    "id": "ecoioxH6rp9O",
    "outputId": "8c42cac3-308b-4ad3-c816-ed1eb6a88bc5"
   },
   "outputs": [
    {
     "name": "stdout",
     "output_type": "stream",
     "text": [
      "Video_Games_5.json.gz 497577\n",
      "meta_Video_Games.json.gz 84819\n"
     ]
    }
   ],
   "source": [
    "def load_file(file_name):\n",
    "    data = []\n",
    "    with gzip.open(file_name) as f:\n",
    "        for l in f:\n",
    "            data.append(json.loads(l.strip()))\n",
    "\n",
    "    print(file_name, len(data))\n",
    "    df = pd.DataFrame.from_dict(data)\n",
    "    return df\n",
    "\n",
    "reviews_df = load_file(\"Video_Games_5.json.gz\")\n",
    "metadata_df = load_file(\"meta_Video_Games.json.gz\")"
   ]
  },
  {
   "cell_type": "markdown",
   "metadata": {
    "id": "U0Xdx5M8rw6U"
   },
   "source": [
    "## Descrição das colunas"
   ]
  },
  {
   "cell_type": "markdown",
   "metadata": {},
   "source": [
    "- reviewerID - ID do avaliador, por exemplo, A2SUAM1J3GNN3B\n",
    "- asin - ID do produto, por exemplo, 0000013714\n",
    "- reviewerName - nome do avaliador\n",
    "- vote - votos úteis da avaliação\n",
    "- style - um dicionário dos metadados do produto, por exemplo, \"Formato\" é \"Capa Dura\"\n",
    "- reviewText - texto da avaliação\n",
    "- overall - classificação do produto\n",
    "- summary - resumo da avaliação\n",
    "- unixReviewTime - tempo da avaliação (tempo Unix)\n",
    "- reviewTime - tempo da avaliação (formato original)\n",
    "- image - imagens que os usuários postam após receberem o produto"
   ]
  },
  {
   "cell_type": "code",
   "execution_count": 97,
   "metadata": {},
   "outputs": [
    {
     "data": {
      "text/html": [
       "<div>\n",
       "<style scoped>\n",
       "    .dataframe tbody tr th:only-of-type {\n",
       "        vertical-align: middle;\n",
       "    }\n",
       "\n",
       "    .dataframe tbody tr th {\n",
       "        vertical-align: top;\n",
       "    }\n",
       "\n",
       "    .dataframe thead th {\n",
       "        text-align: right;\n",
       "    }\n",
       "</style>\n",
       "<table border=\"1\" class=\"dataframe\">\n",
       "  <thead>\n",
       "    <tr style=\"text-align: right;\">\n",
       "      <th></th>\n",
       "      <th>overall</th>\n",
       "      <th>verified</th>\n",
       "      <th>reviewTime</th>\n",
       "      <th>reviewerID</th>\n",
       "      <th>asin</th>\n",
       "      <th>reviewerName</th>\n",
       "      <th>reviewText</th>\n",
       "      <th>summary</th>\n",
       "      <th>unixReviewTime</th>\n",
       "      <th>vote</th>\n",
       "      <th>style</th>\n",
       "    </tr>\n",
       "  </thead>\n",
       "  <tbody>\n",
       "    <tr>\n",
       "      <th>0</th>\n",
       "      <td>5.0</td>\n",
       "      <td>True</td>\n",
       "      <td>10 17, 2015</td>\n",
       "      <td>A1HP7NVNPFMA4N</td>\n",
       "      <td>0700026657</td>\n",
       "      <td>Ambrosia075</td>\n",
       "      <td>This game is a bit hard to get the hang of, bu...</td>\n",
       "      <td>but when you do it's great.</td>\n",
       "      <td>1445040000</td>\n",
       "      <td>0</td>\n",
       "      <td>NaN</td>\n",
       "    </tr>\n",
       "    <tr>\n",
       "      <th>1</th>\n",
       "      <td>4.0</td>\n",
       "      <td>False</td>\n",
       "      <td>07 27, 2015</td>\n",
       "      <td>A1JGAP0185YJI6</td>\n",
       "      <td>0700026657</td>\n",
       "      <td>travis</td>\n",
       "      <td>I played it a while but it was alright. The st...</td>\n",
       "      <td>But in spite of that it was fun, I liked it</td>\n",
       "      <td>1437955200</td>\n",
       "      <td>0</td>\n",
       "      <td>NaN</td>\n",
       "    </tr>\n",
       "    <tr>\n",
       "      <th>2</th>\n",
       "      <td>3.0</td>\n",
       "      <td>True</td>\n",
       "      <td>02 23, 2015</td>\n",
       "      <td>A1YJWEXHQBWK2B</td>\n",
       "      <td>0700026657</td>\n",
       "      <td>Vincent G. Mezera</td>\n",
       "      <td>ok game.</td>\n",
       "      <td>Three Stars</td>\n",
       "      <td>1424649600</td>\n",
       "      <td>0</td>\n",
       "      <td>NaN</td>\n",
       "    </tr>\n",
       "    <tr>\n",
       "      <th>3</th>\n",
       "      <td>2.0</td>\n",
       "      <td>True</td>\n",
       "      <td>02 20, 2015</td>\n",
       "      <td>A2204E1TH211HT</td>\n",
       "      <td>0700026657</td>\n",
       "      <td>Grandma KR</td>\n",
       "      <td>found the game a bit too complicated, not what...</td>\n",
       "      <td>Two Stars</td>\n",
       "      <td>1424390400</td>\n",
       "      <td>0</td>\n",
       "      <td>NaN</td>\n",
       "    </tr>\n",
       "    <tr>\n",
       "      <th>4</th>\n",
       "      <td>5.0</td>\n",
       "      <td>True</td>\n",
       "      <td>12 25, 2014</td>\n",
       "      <td>A2RF5B5H74JLPE</td>\n",
       "      <td>0700026657</td>\n",
       "      <td>jon</td>\n",
       "      <td>great game, I love it and have played it since...</td>\n",
       "      <td>love this game</td>\n",
       "      <td>1419465600</td>\n",
       "      <td>0</td>\n",
       "      <td>NaN</td>\n",
       "    </tr>\n",
       "  </tbody>\n",
       "</table>\n",
       "</div>"
      ],
      "text/plain": [
       "   overall  verified   reviewTime      reviewerID        asin  \\\n",
       "0      5.0      True  10 17, 2015  A1HP7NVNPFMA4N  0700026657   \n",
       "1      4.0     False  07 27, 2015  A1JGAP0185YJI6  0700026657   \n",
       "2      3.0      True  02 23, 2015  A1YJWEXHQBWK2B  0700026657   \n",
       "3      2.0      True  02 20, 2015  A2204E1TH211HT  0700026657   \n",
       "4      5.0      True  12 25, 2014  A2RF5B5H74JLPE  0700026657   \n",
       "\n",
       "        reviewerName                                         reviewText  \\\n",
       "0        Ambrosia075  This game is a bit hard to get the hang of, bu...   \n",
       "1             travis  I played it a while but it was alright. The st...   \n",
       "2  Vincent G. Mezera                                           ok game.   \n",
       "3         Grandma KR  found the game a bit too complicated, not what...   \n",
       "4                jon  great game, I love it and have played it since...   \n",
       "\n",
       "                                       summary  unixReviewTime vote style  \n",
       "0                  but when you do it's great.      1445040000    0   NaN  \n",
       "1  But in spite of that it was fun, I liked it      1437955200    0   NaN  \n",
       "2                                  Three Stars      1424649600    0   NaN  \n",
       "3                                    Two Stars      1424390400    0   NaN  \n",
       "4                               love this game      1419465600    0   NaN  "
      ]
     },
     "execution_count": 97,
     "metadata": {},
     "output_type": "execute_result"
    }
   ],
   "source": [
    "reviews_df.head()"
   ]
  },
  {
   "cell_type": "markdown",
   "metadata": {},
   "source": [
    "- asin - ID do produto, por exemplo, 0000031852\n",
    "- title - nome do produto\n",
    "- feature - características do produto em formato de lista de itens\n",
    "- description - descrição do produto\n",
    "- price - preço em dólares americanos (no momento da coleta de dados)\n",
    "- imageURL - URL da imagem do produto\n",
    "- imageURLHighRes - URL da imagem do produto em alta resolução\n",
    "- related - produtos relacionados (também comprados, também visualizados comprados juntos, comprar após visualizar)\n",
    "- salesRank - informações do ranking de vendas\n",
    "- brand - nome da marca\n",
    "- categories - lista de categorias às quais o produto pertence\n",
    "- tech1 - primeira tabela de detalhes técnicos do produto\n",
    "- tech2 - segunda tabela de detalhes técnicos do produto\n",
    "- similar - tabela de produtos similares"
   ]
  },
  {
   "cell_type": "code",
   "execution_count": 7,
   "metadata": {
    "colab": {
     "base_uri": "https://localhost:8080/",
     "height": 536
    },
    "id": "rQBCdOwRrvTU",
    "outputId": "93879e3a-8619-475a-f6fe-3f2a8c7b8085"
   },
   "outputs": [
    {
     "data": {
      "text/html": [
       "<div>\n",
       "<style scoped>\n",
       "    .dataframe tbody tr th:only-of-type {\n",
       "        vertical-align: middle;\n",
       "    }\n",
       "\n",
       "    .dataframe tbody tr th {\n",
       "        vertical-align: top;\n",
       "    }\n",
       "\n",
       "    .dataframe thead th {\n",
       "        text-align: right;\n",
       "    }\n",
       "</style>\n",
       "<table border=\"1\" class=\"dataframe\">\n",
       "  <thead>\n",
       "    <tr style=\"text-align: right;\">\n",
       "      <th></th>\n",
       "      <th>category</th>\n",
       "      <th>tech1</th>\n",
       "      <th>description</th>\n",
       "      <th>fit</th>\n",
       "      <th>title</th>\n",
       "      <th>also_buy</th>\n",
       "      <th>tech2</th>\n",
       "      <th>brand</th>\n",
       "      <th>feature</th>\n",
       "      <th>rank</th>\n",
       "      <th>also_view</th>\n",
       "      <th>main_cat</th>\n",
       "      <th>similar_item</th>\n",
       "      <th>date</th>\n",
       "      <th>price</th>\n",
       "      <th>asin</th>\n",
       "      <th>imageURL</th>\n",
       "      <th>imageURLHighRes</th>\n",
       "      <th>details</th>\n",
       "    </tr>\n",
       "  </thead>\n",
       "  <tbody>\n",
       "    <tr>\n",
       "      <th>0</th>\n",
       "      <td>[Video Games, PC, Games]</td>\n",
       "      <td></td>\n",
       "      <td>[]</td>\n",
       "      <td></td>\n",
       "      <td>Reversi Sensory Challenger</td>\n",
       "      <td>[]</td>\n",
       "      <td></td>\n",
       "      <td>Fidelity Electronics</td>\n",
       "      <td>[]</td>\n",
       "      <td>[&gt;#2,623,937 in Toys &amp;amp; Games (See Top 100 ...</td>\n",
       "      <td>[]</td>\n",
       "      <td>Toys &amp;amp; Games</td>\n",
       "      <td></td>\n",
       "      <td></td>\n",
       "      <td></td>\n",
       "      <td>0042000742</td>\n",
       "      <td>[https://images-na.ssl-images-amazon.com/image...</td>\n",
       "      <td>[https://images-na.ssl-images-amazon.com/image...</td>\n",
       "      <td>NaN</td>\n",
       "    </tr>\n",
       "    <tr>\n",
       "      <th>1</th>\n",
       "      <td>[Video Games, Xbox 360, Games, &lt;/span&gt;&lt;/span&gt;&lt;...</td>\n",
       "      <td></td>\n",
       "      <td>[Brand new sealed!]</td>\n",
       "      <td></td>\n",
       "      <td>Medal of Honor: Warfighter - Includes Battlefi...</td>\n",
       "      <td>[B00PADROYW]</td>\n",
       "      <td></td>\n",
       "      <td>by\\n    \\n    EA Games</td>\n",
       "      <td>[]</td>\n",
       "      <td>[&gt;#67,231 in Video Games (See Top 100 in Video...</td>\n",
       "      <td>[B0050SY5BM, B072NQJCW5, B000TI836G, B002SRSQ7...</td>\n",
       "      <td>Video Games</td>\n",
       "      <td></td>\n",
       "      <td></td>\n",
       "      <td>\\n\\t\\t\\t\\t\\t\\t\\t\\t\\t\\t\\t\\t&lt;span class=\"vertica...</td>\n",
       "      <td>0078764343</td>\n",
       "      <td>[https://images-na.ssl-images-amazon.com/image...</td>\n",
       "      <td>[https://images-na.ssl-images-amazon.com/image...</td>\n",
       "      <td>NaN</td>\n",
       "    </tr>\n",
       "    <tr>\n",
       "      <th>2</th>\n",
       "      <td>[Video Games, Retro Gaming &amp; Microconsoles, Su...</td>\n",
       "      <td></td>\n",
       "      <td>[]</td>\n",
       "      <td></td>\n",
       "      <td>street fighter 2 II turbo super nintendo snes ...</td>\n",
       "      <td>[]</td>\n",
       "      <td></td>\n",
       "      <td>Nintendo</td>\n",
       "      <td>[]</td>\n",
       "      <td>[&gt;#134,433 in Video Games (See Top 100 in Vide...</td>\n",
       "      <td>[]</td>\n",
       "      <td>Video Games</td>\n",
       "      <td></td>\n",
       "      <td></td>\n",
       "      <td>$0.72</td>\n",
       "      <td>0276425316</td>\n",
       "      <td>[]</td>\n",
       "      <td>[]</td>\n",
       "      <td>NaN</td>\n",
       "    </tr>\n",
       "    <tr>\n",
       "      <th>3</th>\n",
       "      <td>[Video Games, Xbox 360, Accessories, Controlle...</td>\n",
       "      <td></td>\n",
       "      <td>[MAS's Pro Xbox 360 Stick (Perfect 360 Stick) ...</td>\n",
       "      <td></td>\n",
       "      <td>Xbox 360 MAS STICK</td>\n",
       "      <td>[]</td>\n",
       "      <td></td>\n",
       "      <td>by\\n    \\n    MAS SYSTEMS</td>\n",
       "      <td>[Original PCB used from Xbox 360 Control Pad (...</td>\n",
       "      <td>[&gt;#105,263 in Video Games (See Top 100 in Vide...</td>\n",
       "      <td>[]</td>\n",
       "      <td>Video Games</td>\n",
       "      <td></td>\n",
       "      <td></td>\n",
       "      <td></td>\n",
       "      <td>0324411812</td>\n",
       "      <td>[https://images-na.ssl-images-amazon.com/image...</td>\n",
       "      <td>[https://images-na.ssl-images-amazon.com/image...</td>\n",
       "      <td>NaN</td>\n",
       "    </tr>\n",
       "    <tr>\n",
       "      <th>4</th>\n",
       "      <td>[Video Games, PC, Games, &lt;/span&gt;&lt;/span&gt;&lt;/span&gt;...</td>\n",
       "      <td></td>\n",
       "      <td>[Phonics Alive! 3, The Speller teaches student...</td>\n",
       "      <td></td>\n",
       "      <td>Phonics Alive! 3: The Speller</td>\n",
       "      <td>[]</td>\n",
       "      <td></td>\n",
       "      <td>by\\n    \\n    Advanced Software Pty. Ltd.</td>\n",
       "      <td>[Grades 2-12, Spelling Program, Teaches Spelli...</td>\n",
       "      <td>[&gt;#92,397 in Video Games (See Top 100 in Video...</td>\n",
       "      <td>[B000BCZ7U0]</td>\n",
       "      <td>Video Games</td>\n",
       "      <td></td>\n",
       "      <td></td>\n",
       "      <td></td>\n",
       "      <td>0439335310</td>\n",
       "      <td>[https://images-na.ssl-images-amazon.com/image...</td>\n",
       "      <td>[https://images-na.ssl-images-amazon.com/image...</td>\n",
       "      <td>NaN</td>\n",
       "    </tr>\n",
       "  </tbody>\n",
       "</table>\n",
       "</div>"
      ],
      "text/plain": [
       "                                            category tech1  \\\n",
       "0                           [Video Games, PC, Games]         \n",
       "1  [Video Games, Xbox 360, Games, </span></span><...         \n",
       "2  [Video Games, Retro Gaming & Microconsoles, Su...         \n",
       "3  [Video Games, Xbox 360, Accessories, Controlle...         \n",
       "4  [Video Games, PC, Games, </span></span></span>...         \n",
       "\n",
       "                                         description fit  \\\n",
       "0                                                 []       \n",
       "1                                [Brand new sealed!]       \n",
       "2                                                 []       \n",
       "3  [MAS's Pro Xbox 360 Stick (Perfect 360 Stick) ...       \n",
       "4  [Phonics Alive! 3, The Speller teaches student...       \n",
       "\n",
       "                                               title      also_buy tech2  \\\n",
       "0                         Reversi Sensory Challenger            []         \n",
       "1  Medal of Honor: Warfighter - Includes Battlefi...  [B00PADROYW]         \n",
       "2  street fighter 2 II turbo super nintendo snes ...            []         \n",
       "3                                 Xbox 360 MAS STICK            []         \n",
       "4                      Phonics Alive! 3: The Speller            []         \n",
       "\n",
       "                                       brand  \\\n",
       "0                       Fidelity Electronics   \n",
       "1                     by\\n    \\n    EA Games   \n",
       "2                                   Nintendo   \n",
       "3                  by\\n    \\n    MAS SYSTEMS   \n",
       "4  by\\n    \\n    Advanced Software Pty. Ltd.   \n",
       "\n",
       "                                             feature  \\\n",
       "0                                                 []   \n",
       "1                                                 []   \n",
       "2                                                 []   \n",
       "3  [Original PCB used from Xbox 360 Control Pad (...   \n",
       "4  [Grades 2-12, Spelling Program, Teaches Spelli...   \n",
       "\n",
       "                                                rank  \\\n",
       "0  [>#2,623,937 in Toys &amp; Games (See Top 100 ...   \n",
       "1  [>#67,231 in Video Games (See Top 100 in Video...   \n",
       "2  [>#134,433 in Video Games (See Top 100 in Vide...   \n",
       "3  [>#105,263 in Video Games (See Top 100 in Vide...   \n",
       "4  [>#92,397 in Video Games (See Top 100 in Video...   \n",
       "\n",
       "                                           also_view          main_cat  \\\n",
       "0                                                 []  Toys &amp; Games   \n",
       "1  [B0050SY5BM, B072NQJCW5, B000TI836G, B002SRSQ7...       Video Games   \n",
       "2                                                 []       Video Games   \n",
       "3                                                 []       Video Games   \n",
       "4                                       [B000BCZ7U0]       Video Games   \n",
       "\n",
       "  similar_item date                                              price  \\\n",
       "0                                                                        \n",
       "1                    \\n\\t\\t\\t\\t\\t\\t\\t\\t\\t\\t\\t\\t<span class=\"vertica...   \n",
       "2                                                                $0.72   \n",
       "3                                                                        \n",
       "4                                                                        \n",
       "\n",
       "         asin                                           imageURL  \\\n",
       "0  0042000742  [https://images-na.ssl-images-amazon.com/image...   \n",
       "1  0078764343  [https://images-na.ssl-images-amazon.com/image...   \n",
       "2  0276425316                                                 []   \n",
       "3  0324411812  [https://images-na.ssl-images-amazon.com/image...   \n",
       "4  0439335310  [https://images-na.ssl-images-amazon.com/image...   \n",
       "\n",
       "                                     imageURLHighRes details  \n",
       "0  [https://images-na.ssl-images-amazon.com/image...     NaN  \n",
       "1  [https://images-na.ssl-images-amazon.com/image...     NaN  \n",
       "2                                                 []     NaN  \n",
       "3  [https://images-na.ssl-images-amazon.com/image...     NaN  \n",
       "4  [https://images-na.ssl-images-amazon.com/image...     NaN  "
      ]
     },
     "execution_count": 7,
     "metadata": {},
     "output_type": "execute_result"
    }
   ],
   "source": [
    "metadata_df.head()"
   ]
  },
  {
   "cell_type": "markdown",
   "metadata": {
    "id": "52YoMOkS7SPe"
   },
   "source": [
    "Note que o dataset é muito grande e certas manipulações podem não caber na memória RAM. Além disso, alguns desses dados podem ser de baixa qualidade. Esses dados podem ser filtrados e você pode considerar apenas os dados de maior qualidade. Alguns filtros básicos:"
   ]
  },
  {
   "cell_type": "markdown",
   "metadata": {
    "id": "nbIwbINKGOGC"
   },
   "source": [
    "## **Análise e preparação dos dados (0,5 pontos)**"
   ]
  },
  {
   "cell_type": "markdown",
   "metadata": {},
   "source": [
    "### Reviews"
   ]
  },
  {
   "cell_type": "code",
   "execution_count": 8,
   "metadata": {
    "id": "j8fsuiaYGSZO"
   },
   "outputs": [
    {
     "name": "stdout",
     "output_type": "stream",
     "text": [
      "<class 'pandas.core.frame.DataFrame'>\n",
      "RangeIndex: 497577 entries, 0 to 497576\n",
      "Data columns (total 12 columns):\n",
      " #   Column          Non-Null Count   Dtype  \n",
      "---  ------          --------------   -----  \n",
      " 0   overall         497577 non-null  float64\n",
      " 1   verified        497577 non-null  bool   \n",
      " 2   reviewTime      497577 non-null  object \n",
      " 3   reviewerID      497577 non-null  object \n",
      " 4   asin            497577 non-null  object \n",
      " 5   reviewerName    497501 non-null  object \n",
      " 6   reviewText      497419 non-null  object \n",
      " 7   summary         497468 non-null  object \n",
      " 8   unixReviewTime  497577 non-null  int64  \n",
      " 9   vote            107793 non-null  object \n",
      " 10  style           289237 non-null  object \n",
      " 11  image           3634 non-null    object \n",
      "dtypes: bool(1), float64(1), int64(1), object(9)\n",
      "memory usage: 42.2+ MB\n"
     ]
    }
   ],
   "source": [
    "reviews_df.info()"
   ]
  },
  {
   "cell_type": "code",
   "execution_count": 73,
   "metadata": {},
   "outputs": [
    {
     "data": {
      "text/html": [
       "<div>\n",
       "<style scoped>\n",
       "    .dataframe tbody tr th:only-of-type {\n",
       "        vertical-align: middle;\n",
       "    }\n",
       "\n",
       "    .dataframe tbody tr th {\n",
       "        vertical-align: top;\n",
       "    }\n",
       "\n",
       "    .dataframe thead th {\n",
       "        text-align: right;\n",
       "    }\n",
       "</style>\n",
       "<table border=\"1\" class=\"dataframe\">\n",
       "  <thead>\n",
       "    <tr style=\"text-align: right;\">\n",
       "      <th></th>\n",
       "      <th>overall</th>\n",
       "      <th>verified</th>\n",
       "      <th>reviewTime</th>\n",
       "      <th>reviewerID</th>\n",
       "      <th>asin</th>\n",
       "      <th>reviewerName</th>\n",
       "      <th>reviewText</th>\n",
       "      <th>summary</th>\n",
       "      <th>unixReviewTime</th>\n",
       "      <th>vote</th>\n",
       "      <th>style</th>\n",
       "      <th>image</th>\n",
       "    </tr>\n",
       "  </thead>\n",
       "  <tbody>\n",
       "    <tr>\n",
       "      <th>0</th>\n",
       "      <td>5.0</td>\n",
       "      <td>True</td>\n",
       "      <td>10 17, 2015</td>\n",
       "      <td>A1HP7NVNPFMA4N</td>\n",
       "      <td>0700026657</td>\n",
       "      <td>Ambrosia075</td>\n",
       "      <td>This game is a bit hard to get the hang of, bu...</td>\n",
       "      <td>but when you do it's great.</td>\n",
       "      <td>1445040000</td>\n",
       "      <td>NaN</td>\n",
       "      <td>NaN</td>\n",
       "      <td>NaN</td>\n",
       "    </tr>\n",
       "    <tr>\n",
       "      <th>1</th>\n",
       "      <td>4.0</td>\n",
       "      <td>False</td>\n",
       "      <td>07 27, 2015</td>\n",
       "      <td>A1JGAP0185YJI6</td>\n",
       "      <td>0700026657</td>\n",
       "      <td>travis</td>\n",
       "      <td>I played it a while but it was alright. The st...</td>\n",
       "      <td>But in spite of that it was fun, I liked it</td>\n",
       "      <td>1437955200</td>\n",
       "      <td>NaN</td>\n",
       "      <td>NaN</td>\n",
       "      <td>NaN</td>\n",
       "    </tr>\n",
       "    <tr>\n",
       "      <th>2</th>\n",
       "      <td>3.0</td>\n",
       "      <td>True</td>\n",
       "      <td>02 23, 2015</td>\n",
       "      <td>A1YJWEXHQBWK2B</td>\n",
       "      <td>0700026657</td>\n",
       "      <td>Vincent G. Mezera</td>\n",
       "      <td>ok game.</td>\n",
       "      <td>Three Stars</td>\n",
       "      <td>1424649600</td>\n",
       "      <td>NaN</td>\n",
       "      <td>NaN</td>\n",
       "      <td>NaN</td>\n",
       "    </tr>\n",
       "    <tr>\n",
       "      <th>3</th>\n",
       "      <td>2.0</td>\n",
       "      <td>True</td>\n",
       "      <td>02 20, 2015</td>\n",
       "      <td>A2204E1TH211HT</td>\n",
       "      <td>0700026657</td>\n",
       "      <td>Grandma KR</td>\n",
       "      <td>found the game a bit too complicated, not what...</td>\n",
       "      <td>Two Stars</td>\n",
       "      <td>1424390400</td>\n",
       "      <td>NaN</td>\n",
       "      <td>NaN</td>\n",
       "      <td>NaN</td>\n",
       "    </tr>\n",
       "    <tr>\n",
       "      <th>4</th>\n",
       "      <td>5.0</td>\n",
       "      <td>True</td>\n",
       "      <td>12 25, 2014</td>\n",
       "      <td>A2RF5B5H74JLPE</td>\n",
       "      <td>0700026657</td>\n",
       "      <td>jon</td>\n",
       "      <td>great game, I love it and have played it since...</td>\n",
       "      <td>love this game</td>\n",
       "      <td>1419465600</td>\n",
       "      <td>NaN</td>\n",
       "      <td>NaN</td>\n",
       "      <td>NaN</td>\n",
       "    </tr>\n",
       "  </tbody>\n",
       "</table>\n",
       "</div>"
      ],
      "text/plain": [
       "   overall  verified   reviewTime      reviewerID        asin  \\\n",
       "0      5.0      True  10 17, 2015  A1HP7NVNPFMA4N  0700026657   \n",
       "1      4.0     False  07 27, 2015  A1JGAP0185YJI6  0700026657   \n",
       "2      3.0      True  02 23, 2015  A1YJWEXHQBWK2B  0700026657   \n",
       "3      2.0      True  02 20, 2015  A2204E1TH211HT  0700026657   \n",
       "4      5.0      True  12 25, 2014  A2RF5B5H74JLPE  0700026657   \n",
       "\n",
       "        reviewerName                                         reviewText  \\\n",
       "0        Ambrosia075  This game is a bit hard to get the hang of, bu...   \n",
       "1             travis  I played it a while but it was alright. The st...   \n",
       "2  Vincent G. Mezera                                           ok game.   \n",
       "3         Grandma KR  found the game a bit too complicated, not what...   \n",
       "4                jon  great game, I love it and have played it since...   \n",
       "\n",
       "                                       summary  unixReviewTime vote style  \\\n",
       "0                  but when you do it's great.      1445040000  NaN   NaN   \n",
       "1  But in spite of that it was fun, I liked it      1437955200  NaN   NaN   \n",
       "2                                  Three Stars      1424649600  NaN   NaN   \n",
       "3                                    Two Stars      1424390400  NaN   NaN   \n",
       "4                               love this game      1419465600  NaN   NaN   \n",
       "\n",
       "  image  \n",
       "0   NaN  \n",
       "1   NaN  \n",
       "2   NaN  \n",
       "3   NaN  \n",
       "4   NaN  "
      ]
     },
     "execution_count": 73,
     "metadata": {},
     "output_type": "execute_result"
    }
   ],
   "source": [
    "reviews_df.head()"
   ]
  },
  {
   "cell_type": "code",
   "execution_count": 33,
   "metadata": {},
   "outputs": [
    {
     "data": {
      "text/plain": [
       "overall                5\n",
       "verified               2\n",
       "reviewTime          6847\n",
       "reviewerID         55223\n",
       "asin               17408\n",
       "reviewerName       45943\n",
       "reviewText        401498\n",
       "summary           284302\n",
       "unixReviewTime      6847\n",
       "vote                 449\n",
       "dtype: int64"
      ]
     },
     "execution_count": 33,
     "metadata": {},
     "output_type": "execute_result"
    }
   ],
   "source": [
    "reviews_df.iloc[:, :-2].nunique()"
   ]
  },
  {
   "cell_type": "code",
   "execution_count": 37,
   "metadata": {},
   "outputs": [
    {
     "data": {
      "text/html": [
       "<div>\n",
       "<style scoped>\n",
       "    .dataframe tbody tr th:only-of-type {\n",
       "        vertical-align: middle;\n",
       "    }\n",
       "\n",
       "    .dataframe tbody tr th {\n",
       "        vertical-align: top;\n",
       "    }\n",
       "\n",
       "    .dataframe thead th {\n",
       "        text-align: right;\n",
       "    }\n",
       "</style>\n",
       "<table border=\"1\" class=\"dataframe\">\n",
       "  <thead>\n",
       "    <tr style=\"text-align: right;\">\n",
       "      <th></th>\n",
       "      <th>overall</th>\n",
       "      <th>verified</th>\n",
       "      <th>reviewTime</th>\n",
       "      <th>reviewerID</th>\n",
       "      <th>asin</th>\n",
       "      <th>reviewerName</th>\n",
       "      <th>reviewText</th>\n",
       "      <th>summary</th>\n",
       "      <th>unixReviewTime</th>\n",
       "      <th>vote</th>\n",
       "      <th>style</th>\n",
       "      <th>image</th>\n",
       "    </tr>\n",
       "  </thead>\n",
       "  <tbody>\n",
       "    <tr>\n",
       "      <th>968</th>\n",
       "      <td>5.0</td>\n",
       "      <td>False</td>\n",
       "      <td>05 3, 2007</td>\n",
       "      <td>A1CDNTB7377YH2</td>\n",
       "      <td>B00000DMAQ</td>\n",
       "      <td>Michael A. Newman</td>\n",
       "      <td>I really love this game that is quite similar ...</td>\n",
       "      <td>What a great game!</td>\n",
       "      <td>1178150400</td>\n",
       "      <td>NaN</td>\n",
       "      <td>NaN</td>\n",
       "      <td>NaN</td>\n",
       "    </tr>\n",
       "    <tr>\n",
       "      <th>969</th>\n",
       "      <td>5.0</td>\n",
       "      <td>False</td>\n",
       "      <td>05 3, 2007</td>\n",
       "      <td>A1CDNTB7377YH2</td>\n",
       "      <td>B00000DMAQ</td>\n",
       "      <td>Michael A. Newman</td>\n",
       "      <td>I really love this game that is quite similar ...</td>\n",
       "      <td>A Whole Lot of Fun</td>\n",
       "      <td>1178150400</td>\n",
       "      <td>NaN</td>\n",
       "      <td>NaN</td>\n",
       "      <td>NaN</td>\n",
       "    </tr>\n",
       "    <tr>\n",
       "      <th>2407</th>\n",
       "      <td>5.0</td>\n",
       "      <td>False</td>\n",
       "      <td>01 4, 2012</td>\n",
       "      <td>AROWZGGO4VTJU</td>\n",
       "      <td>B00000INR2</td>\n",
       "      <td>Cosmic Soujourner</td>\n",
       "      <td>I have used third party products for everythin...</td>\n",
       "      <td>Stick With First Party Hardware</td>\n",
       "      <td>1325635200</td>\n",
       "      <td>3</td>\n",
       "      <td>NaN</td>\n",
       "      <td>NaN</td>\n",
       "    </tr>\n",
       "    <tr>\n",
       "      <th>2408</th>\n",
       "      <td>1.0</td>\n",
       "      <td>False</td>\n",
       "      <td>01 4, 2012</td>\n",
       "      <td>AROWZGGO4VTJU</td>\n",
       "      <td>B00000INR2</td>\n",
       "      <td>Cosmic Soujourner</td>\n",
       "      <td>I have used many third party expansion packs a...</td>\n",
       "      <td>Beware Of Third Party Expansion Paks</td>\n",
       "      <td>1325635200</td>\n",
       "      <td>NaN</td>\n",
       "      <td>NaN</td>\n",
       "      <td>NaN</td>\n",
       "    </tr>\n",
       "    <tr>\n",
       "      <th>2409</th>\n",
       "      <td>1.0</td>\n",
       "      <td>False</td>\n",
       "      <td>01 4, 2012</td>\n",
       "      <td>AROWZGGO4VTJU</td>\n",
       "      <td>B00000INR2</td>\n",
       "      <td>Cosmic Soujourner</td>\n",
       "      <td>I have used a lot of third party expansion pac...</td>\n",
       "      <td>Buy Only Nintendo Brand Expansion Pak</td>\n",
       "      <td>1325635200</td>\n",
       "      <td>NaN</td>\n",
       "      <td>NaN</td>\n",
       "      <td>NaN</td>\n",
       "    </tr>\n",
       "    <tr>\n",
       "      <th>...</th>\n",
       "      <td>...</td>\n",
       "      <td>...</td>\n",
       "      <td>...</td>\n",
       "      <td>...</td>\n",
       "      <td>...</td>\n",
       "      <td>...</td>\n",
       "      <td>...</td>\n",
       "      <td>...</td>\n",
       "      <td>...</td>\n",
       "      <td>...</td>\n",
       "      <td>...</td>\n",
       "      <td>...</td>\n",
       "    </tr>\n",
       "    <tr>\n",
       "      <th>495475</th>\n",
       "      <td>5.0</td>\n",
       "      <td>True</td>\n",
       "      <td>08 13, 2018</td>\n",
       "      <td>A8J2YHESWGF2E</td>\n",
       "      <td>B014P7QI6I</td>\n",
       "      <td>Amazoncustomer</td>\n",
       "      <td>I use mine on a Raspberry Pi 3 Model B and it ...</td>\n",
       "      <td>Works on Raspberry Pi and PC</td>\n",
       "      <td>1534118400</td>\n",
       "      <td>NaN</td>\n",
       "      <td>{'Color:': ' Black17'}</td>\n",
       "      <td>NaN</td>\n",
       "    </tr>\n",
       "    <tr>\n",
       "      <th>495476</th>\n",
       "      <td>5.0</td>\n",
       "      <td>True</td>\n",
       "      <td>08 13, 2018</td>\n",
       "      <td>A8J2YHESWGF2E</td>\n",
       "      <td>B014P7QI6I</td>\n",
       "      <td>Amazoncustomer</td>\n",
       "      <td>This is a great product, my son wanted a contr...</td>\n",
       "      <td>Great Product</td>\n",
       "      <td>1534118400</td>\n",
       "      <td>NaN</td>\n",
       "      <td>{'Color:': ' Black16'}</td>\n",
       "      <td>NaN</td>\n",
       "    </tr>\n",
       "    <tr>\n",
       "      <th>495477</th>\n",
       "      <td>5.0</td>\n",
       "      <td>True</td>\n",
       "      <td>08 13, 2018</td>\n",
       "      <td>A8J2YHESWGF2E</td>\n",
       "      <td>B014P7QI6I</td>\n",
       "      <td>Amazoncustomer</td>\n",
       "      <td>my son informs me this is a good controller lo...</td>\n",
       "      <td>Five Stars</td>\n",
       "      <td>1534118400</td>\n",
       "      <td>NaN</td>\n",
       "      <td>{'Color:': ' Black15'}</td>\n",
       "      <td>NaN</td>\n",
       "    </tr>\n",
       "    <tr>\n",
       "      <th>495478</th>\n",
       "      <td>5.0</td>\n",
       "      <td>True</td>\n",
       "      <td>08 13, 2018</td>\n",
       "      <td>A8J2YHESWGF2E</td>\n",
       "      <td>B014P7QI6I</td>\n",
       "      <td>Amazoncustomer</td>\n",
       "      <td>Been looking at Steam Controllers, but they're...</td>\n",
       "      <td>Awesome little controller!</td>\n",
       "      <td>1534118400</td>\n",
       "      <td>NaN</td>\n",
       "      <td>{'Color:': ' Black14'}</td>\n",
       "      <td>NaN</td>\n",
       "    </tr>\n",
       "    <tr>\n",
       "      <th>495479</th>\n",
       "      <td>5.0</td>\n",
       "      <td>True</td>\n",
       "      <td>08 13, 2018</td>\n",
       "      <td>AZQGB17PI6D3N</td>\n",
       "      <td>B014P7QI6I</td>\n",
       "      <td>American customers</td>\n",
       "      <td>Highly recommended! This item works perfectly ...</td>\n",
       "      <td>Great for emulating.</td>\n",
       "      <td>1534118400</td>\n",
       "      <td>NaN</td>\n",
       "      <td>{'Color:': ' Black7'}</td>\n",
       "      <td>NaN</td>\n",
       "    </tr>\n",
       "  </tbody>\n",
       "</table>\n",
       "<p>48087 rows × 12 columns</p>\n",
       "</div>"
      ],
      "text/plain": [
       "        overall  verified   reviewTime      reviewerID        asin  \\\n",
       "968         5.0     False   05 3, 2007  A1CDNTB7377YH2  B00000DMAQ   \n",
       "969         5.0     False   05 3, 2007  A1CDNTB7377YH2  B00000DMAQ   \n",
       "2407        5.0     False   01 4, 2012   AROWZGGO4VTJU  B00000INR2   \n",
       "2408        1.0     False   01 4, 2012   AROWZGGO4VTJU  B00000INR2   \n",
       "2409        1.0     False   01 4, 2012   AROWZGGO4VTJU  B00000INR2   \n",
       "...         ...       ...          ...             ...         ...   \n",
       "495475      5.0      True  08 13, 2018   A8J2YHESWGF2E  B014P7QI6I   \n",
       "495476      5.0      True  08 13, 2018   A8J2YHESWGF2E  B014P7QI6I   \n",
       "495477      5.0      True  08 13, 2018   A8J2YHESWGF2E  B014P7QI6I   \n",
       "495478      5.0      True  08 13, 2018   A8J2YHESWGF2E  B014P7QI6I   \n",
       "495479      5.0      True  08 13, 2018   AZQGB17PI6D3N  B014P7QI6I   \n",
       "\n",
       "              reviewerName                                         reviewText  \\\n",
       "968      Michael A. Newman  I really love this game that is quite similar ...   \n",
       "969      Michael A. Newman  I really love this game that is quite similar ...   \n",
       "2407     Cosmic Soujourner  I have used third party products for everythin...   \n",
       "2408     Cosmic Soujourner  I have used many third party expansion packs a...   \n",
       "2409     Cosmic Soujourner  I have used a lot of third party expansion pac...   \n",
       "...                    ...                                                ...   \n",
       "495475      Amazoncustomer  I use mine on a Raspberry Pi 3 Model B and it ...   \n",
       "495476      Amazoncustomer  This is a great product, my son wanted a contr...   \n",
       "495477      Amazoncustomer  my son informs me this is a good controller lo...   \n",
       "495478      Amazoncustomer  Been looking at Steam Controllers, but they're...   \n",
       "495479  American customers  Highly recommended! This item works perfectly ...   \n",
       "\n",
       "                                      summary  unixReviewTime vote  \\\n",
       "968                        What a great game!      1178150400  NaN   \n",
       "969                        A Whole Lot of Fun      1178150400  NaN   \n",
       "2407          Stick With First Party Hardware      1325635200    3   \n",
       "2408     Beware Of Third Party Expansion Paks      1325635200  NaN   \n",
       "2409    Buy Only Nintendo Brand Expansion Pak      1325635200  NaN   \n",
       "...                                       ...             ...  ...   \n",
       "495475           Works on Raspberry Pi and PC      1534118400  NaN   \n",
       "495476                          Great Product      1534118400  NaN   \n",
       "495477                             Five Stars      1534118400  NaN   \n",
       "495478             Awesome little controller!      1534118400  NaN   \n",
       "495479                   Great for emulating.      1534118400  NaN   \n",
       "\n",
       "                         style image  \n",
       "968                        NaN   NaN  \n",
       "969                        NaN   NaN  \n",
       "2407                       NaN   NaN  \n",
       "2408                       NaN   NaN  \n",
       "2409                       NaN   NaN  \n",
       "...                        ...   ...  \n",
       "495475  {'Color:': ' Black17'}   NaN  \n",
       "495476  {'Color:': ' Black16'}   NaN  \n",
       "495477  {'Color:': ' Black15'}   NaN  \n",
       "495478  {'Color:': ' Black14'}   NaN  \n",
       "495479   {'Color:': ' Black7'}   NaN  \n",
       "\n",
       "[48087 rows x 12 columns]"
      ]
     },
     "execution_count": 37,
     "metadata": {},
     "output_type": "execute_result"
    }
   ],
   "source": [
    "# AQUI VEMOS QUE NO DATASET DE REVIEWS, UM REVIEWER PODE AVALIAR O MESMO PRODUTO MAIS DE UMA VEZ\n",
    "# Podemos fazer uma média posteriormente, para ter uma real noção do que o reviewer achou do produto\n",
    "reviews_df[reviews_df[['reviewerID', 'asin']].duplicated(keep=False)]"
   ]
  },
  {
   "cell_type": "markdown",
   "metadata": {},
   "source": [
    "Começando as modificações"
   ]
  },
  {
   "cell_type": "code",
   "execution_count": 193,
   "metadata": {},
   "outputs": [],
   "source": [
    "reviews_df_filtrado = reviews_df.copy()"
   ]
  },
  {
   "cell_type": "code",
   "execution_count": null,
   "metadata": {},
   "outputs": [],
   "source": [
    "# Pode ser útil para algum cáculo futuo de importância/relevância de um review\n",
    "# Tem muitos valores nulos, mas na prática, seguindo a descrição fornecida, os valores\n",
    "# NAN na verdade são 0, indicando que ninguém votou o review como útil.\n",
    "reviews_df_filtrado.fillna({'vote': 0}, inplace=True)"
   ]
  },
  {
   "cell_type": "code",
   "execution_count": null,
   "metadata": {},
   "outputs": [],
   "source": [
    "# A coluna 'vote' é do tipo object, mas deveria ser do tipo int. Isso acontece porque para\n",
    "# números maiores que 1000, o separador de milhar é uma vírgula. Então, vamos remover as vírgulas\n",
    "# e converter a coluna para int.\n",
    "\n",
    "reviews_df_filtrado.loc[:, 'vote'] = reviews_df_filtrado['vote'].apply(lambda x: x.replace(',', '') if isinstance(x, str) else x)\n",
    "reviews_df_filtrado['vote'] = reviews_df_filtrado['vote'].astype(int)"
   ]
  },
  {
   "cell_type": "code",
   "execution_count": null,
   "metadata": {},
   "outputs": [],
   "source": [
    "# Aproveitando essa conversão de tipo, vamos converter a coluna 'overall' para int também, \n",
    "# é desnecessariamente float.\n",
    "reviews_df_filtrado['overall'] = reviews_df_filtrado['overall'].astype(int)"
   ]
  },
  {
   "cell_type": "markdown",
   "metadata": {},
   "source": [
    "Por já ser um número inteiro, se formos manipularmos datas, vamos utilizar unixReviewTime, e posteriormente retirar reviewTime por ser uma coluna duplicada em relação a ela. Não vamos  retirá-la agora para auxiliar na interpretação dos dados, visto que unix não é bom para isso"
   ]
  },
  {
   "cell_type": "code",
   "execution_count": 204,
   "metadata": {},
   "outputs": [],
   "source": [
    "# A coluna imagem até poderia auxiliar, no entanto, menos de 1% dos produtos possuem imagem, logo\n",
    "# provavelmente não conseguirá agregar o suficiente a ponto de fazer alguma diferença, principalmente em\n",
    "# relação ao esforço de extrair informações dela\n",
    "reviews_df_filtrado.drop(columns='image', inplace=True)"
   ]
  },
  {
   "cell_type": "code",
   "execution_count": 206,
   "metadata": {},
   "outputs": [
    {
     "name": "stdout",
     "output_type": "stream",
     "text": [
      "Empty DataFrame\n",
      "Columns: [overall, verified, reviewTime, reviewerID, asin, reviewerName, reviewText, summary, unixReviewTime, vote, style]\n",
      "Index: []\n"
     ]
    }
   ],
   "source": [
    "# Pensei que os reviewerName nulos poderiam ser preenchidos pegando seu  reviewerID, e preenchendo com base em outros registros com esse ID, na hipótese de ser apenas um erro de coleta. Mas todos os registros com os IDs desses nulos, de fato, estão com o nome nulo. No entanto, como os outros campos são válidos e seu ID também, é interessante apenas preencher como vazio para não perder esses registros.\n",
    "\n",
    "null_names = reviews_df_filtrado[reviews_df_filtrado['reviewerName'].isnull()]['reviewerID'].unique()\n",
    "print(reviews_df_filtrado[reviews_df_filtrado['reviewerID'].isin(null_names) & reviews_df_filtrado['reviewerName'].notnull()])\n",
    "\n",
    "# Assim, vamos preencher o reviewerName com '', juntamente com os campos textuais \"reviewText\" e \"summary\", pois não há problema serem nulos.\n",
    "\n",
    "reviews_df_filtrado.fillna({'reviewText': '', 'summary': '', 'reviewerName': ''}, inplace=True)"
   ]
  },
  {
   "cell_type": "code",
   "execution_count": 208,
   "metadata": {},
   "outputs": [],
   "source": [
    "# Agora vamos retirar os registros com informações reduzidas em relaçaõ ao dataset de produtos, visto que não teremos as informações deles\n",
    "reviews_df_filtrado = reviews_df_filtrado[reviews_df_filtrado['asin'].isin(metadata_df['asin'])]"
   ]
  },
  {
   "cell_type": "code",
   "execution_count": null,
   "metadata": {},
   "outputs": [],
   "source": [
    "# Informações importantes para calcular a similaridade entre clientes, talvez seja\n",
    "# interessante transformá-las em colunas categóricas\n",
    "reviews_df_filtrado[reviews_df_filtrado['style'].notnull()]['style']"
   ]
  },
  {
   "cell_type": "code",
   "execution_count": 207,
   "metadata": {},
   "outputs": [
    {
     "data": {
      "text/plain": [
       "46                                  {'Format': 'Hardcover'}\n",
       "47                                  {'Format': 'Hardcover'}\n",
       "48                                  {'Format': 'Hardcover'}\n",
       "49                                  {'Format': 'Hardcover'}\n",
       "50                                  {'Format': 'Hardcover'}\n",
       "                                ...                        \n",
       "497564                                   {'Platform': 'PC'}\n",
       "497565                        {'Platform': 'PlayStation 4'}\n",
       "497573    {'Edition': 'Kids Room', 'Platform': 'PC Onlin...\n",
       "497574    {'Edition': 'Kids Room', 'Platform': 'PC Onlin...\n",
       "497575    {'Edition': 'Collection', 'Platform': 'Xbox One'}\n",
       "Name: style, Length: 289237, dtype: object"
      ]
     },
     "execution_count": 207,
     "metadata": {},
     "output_type": "execute_result"
    }
   ],
   "source": [
    "def fix_names(x):\n",
    "    updated_dict = {}\n",
    "\n",
    "    for key, value in x.items():\n",
    "        new_key = key.split(':')[0]\n",
    "        new_value = value.strip()\n",
    "        updated_dict[new_key] = new_value\n",
    "\n",
    "    x.clear()\n",
    "    x.update(updated_dict)\n",
    "\n",
    "    return x\n",
    "\n",
    "reviews_df_filtrado[reviews_df_filtrado['style'].notnull()]['style'].apply(fix_names)"
   ]
  },
  {
   "cell_type": "code",
   "execution_count": 154,
   "metadata": {},
   "outputs": [
    {
     "name": "stdout",
     "output_type": "stream",
     "text": [
      "Chaves únicas: {'Edition', 'Color', 'Item Package Quantity', 'Platform', 'Package Quantity', 'Format', 'Content', 'Style', 'Pattern', 'Length', 'Subscription Length', 'Platform for Display', 'Offer Type', 'Package Type', 'Configuration', 'Style Name', 'Size', 'Color Name', 'Denomination'}\n"
     ]
    }
   ],
   "source": [
    "def get_unique_keys(column):\n",
    "    unique_keys = set()\n",
    "    for item in column.dropna():  # Ignora os valores NaN\n",
    "        if isinstance(item, dict):  # Verifica se é um dicionário\n",
    "            unique_keys.update(item.keys())  # Adiciona as chaves ao set\n",
    "    return unique_keys\n",
    "\n",
    "# Aplicar na coluna\n",
    "unique_keys = get_unique_keys(reviews_df_filtrado['style'])\n",
    "print(\"Chaves únicas:\", unique_keys)"
   ]
  },
  {
   "cell_type": "markdown",
   "metadata": {},
   "source": [
    "### Produtos"
   ]
  },
  {
   "cell_type": "markdown",
   "metadata": {},
   "source": [
    "Por enquanto não vou fazer o filtro sugerido de retirar as linhas de produtos que não estão em reviews. Pela filtragem colaborativa, de fato elas não seriam tão úteis, mas na filtragem por conteúdo, podem ser úteis, afinal, não é porque não estão nas amostras de compras, que não podem ser recomendados."
   ]
  },
  {
   "cell_type": "code",
   "execution_count": 251,
   "metadata": {},
   "outputs": [],
   "source": [
    "metadata_df_filtrado = metadata_df.copy()"
   ]
  },
  {
   "cell_type": "code",
   "execution_count": null,
   "metadata": {},
   "outputs": [],
   "source": [
    "metadata_df_filtrado[metadata_df_filtrado.duplicated(subset='asin', keep=False)].sort_values(by='asin')"
   ]
  },
  {
   "cell_type": "code",
   "execution_count": null,
   "metadata": {},
   "outputs": [],
   "source": [
    "# Por algum motivo, temos duplicatas no dataset de produtos, sendo\n",
    "# redundância de informações, vamos removê-las.\n",
    "metadata_df_filtrado.drop_duplicates(subset=['asin'], inplace=True)"
   ]
  },
  {
   "cell_type": "code",
   "execution_count": null,
   "metadata": {},
   "outputs": [],
   "source": [
    "# A coluna \"details\" possui informações muito específicas do produto,\n",
    "# e são poucas que estão realmente preenchidas (1968). Até tem algumas informações úteis\n",
    "# como linguagem do livro, mas seria mais esforço por pouca informação. Então, vamos remove-la.\n",
    "teste = metadata_df_filtrado[metadata_df_filtrado['details'] != {}]['details']\n",
    "print(teste[teste.notnull()])\n",
    "\n",
    "metadata_df_filtrado.drop(columns='details', inplace=True)\n"
   ]
  },
  {
   "cell_type": "code",
   "execution_count": 280,
   "metadata": {},
   "outputs": [],
   "source": [
    "# As especificações técncias dos produtos estão extremamente mal extraídos, ainda em HTML\n",
    "# Acredtito que retirar do HTML e organizar em uma lista seria muito trabalho para pouca informação\n",
    "# relevante, então vamos remover essas colunas.\n",
    "\n",
    "#print(metadata_df_filtrado['tech1'].unique()[1])\n",
    "\n",
    "metadata_df_filtrado.drop(columns=['tech1', 'tech2'], inplace=True)"
   ]
  },
  {
   "cell_type": "code",
   "execution_count": 362,
   "metadata": {},
   "outputs": [
    {
     "name": "stdout",
     "output_type": "stream",
     "text": [
      "['']\n"
     ]
    }
   ],
   "source": [
    "print(metadata_df_filtrado['fit'].unique())\n",
    "# Fit está vazio, então vamos deletar\n",
    "metadata_df_filtrado.drop(columns='fit', inplace=True)"
   ]
  },
  {
   "cell_type": "code",
   "execution_count": 363,
   "metadata": {},
   "outputs": [
    {
     "name": "stdout",
     "output_type": "stream",
     "text": [
      "<class 'pandas.core.frame.DataFrame'>\n",
      "Index: 71911 entries, 0 to 84818\n",
      "Data columns (total 13 columns):\n",
      " #   Column        Non-Null Count  Dtype \n",
      "---  ------        --------------  ----- \n",
      " 0   category      71911 non-null  object\n",
      " 1   description   71911 non-null  object\n",
      " 2   title         71911 non-null  object\n",
      " 3   also_buy      71911 non-null  object\n",
      " 4   brand         71911 non-null  object\n",
      " 5   feature       71911 non-null  object\n",
      " 6   rank          71911 non-null  object\n",
      " 7   also_view     71911 non-null  object\n",
      " 8   main_cat      71911 non-null  object\n",
      " 9   similar_item  71911 non-null  object\n",
      " 10  date          71911 non-null  object\n",
      " 11  price         71911 non-null  object\n",
      " 12  asin          71911 non-null  object\n",
      "dtypes: object(13)\n",
      "memory usage: 9.7+ MB\n"
     ]
    }
   ],
   "source": [
    "metadata_df_filtrado.info()"
   ]
  },
  {
   "cell_type": "code",
   "execution_count": null,
   "metadata": {},
   "outputs": [],
   "source": [
    "# Assim como não usamos a coluna \"image\" no dataset de reviews, também não usaremos no dataset de produtos\n",
    "metadata_df_filtrado.drop(columns=['imageURL', 'imageURLHighRes'], inplace=True)"
   ]
  },
  {
   "cell_type": "code",
   "execution_count": null,
   "metadata": {},
   "outputs": [],
   "source": [
    "# Vou retirar a coluna \"main_cat\", que é \"categoria principal\", pois é redundante à coluna de categorias. Para esse sistema, vamos considerar todas as categorias, não só as principais\n",
    "metadata_df_filtrado.drop(columns='main_cat', inplace=True) "
   ]
  },
  {
   "cell_type": "code",
   "execution_count": null,
   "metadata": {},
   "outputs": [],
   "source": [
    "# Como nosso objetivo é fazer um sistema de recomendação, vamos retirar as colunas que são originas de uma recumendação (also_buy e also_view)\n",
    "metadata_df_filtrado.drop(columns=['also_buy', 'also_view', 'similar_item'], inplace=True)"
   ]
  },
  {
   "cell_type": "markdown",
   "metadata": {},
   "source": [
    "A variável rank pode ser útil para ordenar as recomendações posteriormente"
   ]
  },
  {
   "cell_type": "code",
   "execution_count": 384,
   "metadata": {},
   "outputs": [],
   "source": [
    "# A coluna de data pode até ser relevante posteriormente para fazer algum tipo de ordenação\n",
    "# por data, mas não acredito que seja tão relevante para o contexto.\n",
    "\n",
    "metadata_df_filtrado.drop(columns='date', inplace=True)"
   ]
  },
  {
   "cell_type": "code",
   "execution_count": 382,
   "metadata": {},
   "outputs": [],
   "source": [
    "# Usar preço de forma relevante é uma tarefa complicada que exige um tratamento muito cuidadoso. Pode ser útil para segmentar diferentes poderes de compras: ex: um usuário que compra um fone airpod é bem diferente de um que compra um fone qcy -> um prefere produtos top de linha e tem poder aquisitivo para isso, e outro prefere produtos mais custo-benefício. O problema é que seria necessario segmentar o preço por tipo de produto, pois é claro que, por exemplo, um celular é muito mais caro que um jogo de video game. Por conta da necessidade desse tratamento mais complexo, vamos remover essa coluna.\n",
    "metadata_df_filtrado.drop(columns='price', inplace=True)"
   ]
  },
  {
   "cell_type": "code",
   "execution_count": null,
   "metadata": {},
   "outputs": [],
   "source": [
    "import re\n",
    "\n",
    "def clean_category(x):\n",
    "    text = ''\n",
    "    for item in x:\n",
    "        # Retirando todo tipo de resíduo de HTML\n",
    "        item = re.sub(r'<[^>]+>', '', item)\n",
    "        item = item.strip()\n",
    "        text += item + '\\n'\n",
    "\n",
    "    return text\n",
    "\n"
   ]
  },
  {
   "cell_type": "code",
   "execution_count": null,
   "metadata": {},
   "outputs": [],
   "source": [
    "# Analisando algumas amostras, percebi que a coluna 'feature\", que adiciona alguma descrição sobre o produto, já vem junto com a coluna \"category\", justamente por erro de extração. Quando a coluna feature está preenchida, o registro de category vem com <span> do HTMl, e logo em baixo vem o texto da feature. Como eu achei ela consideravelmente útil, e vou utilizar uma abordagem de embedding, vou apenas limpar o resto de HTML, e utilizar a category como se estivesse concatenada com a feature. Considerando \"description\" como um excesso de informações desnecessárias sobre o produto, vou retirá-la.\n",
    "metadata_df_filtrado.drop(columns=['description', 'feature'], inplace=True)\n",
    "metadata_df_filtrado['category'] = metadata_df_filtrado['category'].apply(clean_category)"
   ]
  },
  {
   "cell_type": "code",
   "execution_count": 456,
   "metadata": {},
   "outputs": [],
   "source": [
    "# Por fim, para fazer com que a coluna \"brand\" seja relevante, seria tão complexo quanto a coluna \"price\", no sentido em que teriamos que segmentar clientes por uma possibilidade de preferencia de marca. Pela pouca informação adicionada pela complexidade, vamos desconsiderá-la também.\n",
    "metadata_df_filtrado.drop(columns='brand', inplace=True)"
   ]
  },
  {
   "cell_type": "code",
   "execution_count": null,
   "metadata": {},
   "outputs": [
    {
     "data": {
      "text/html": [
       "<div>\n",
       "<style scoped>\n",
       "    .dataframe tbody tr th:only-of-type {\n",
       "        vertical-align: middle;\n",
       "    }\n",
       "\n",
       "    .dataframe tbody tr th {\n",
       "        vertical-align: top;\n",
       "    }\n",
       "\n",
       "    .dataframe thead th {\n",
       "        text-align: right;\n",
       "    }\n",
       "</style>\n",
       "<table border=\"1\" class=\"dataframe\">\n",
       "  <thead>\n",
       "    <tr style=\"text-align: right;\">\n",
       "      <th></th>\n",
       "      <th>category</th>\n",
       "      <th>title</th>\n",
       "      <th>rank</th>\n",
       "      <th>asin</th>\n",
       "    </tr>\n",
       "  </thead>\n",
       "  <tbody>\n",
       "    <tr>\n",
       "      <th>0</th>\n",
       "      <td>Video Games\\nPC\\nGames\\n</td>\n",
       "      <td>Reversi Sensory Challenger</td>\n",
       "      <td>[&gt;#2,623,937 in Toys &amp;amp; Games (See Top 100 ...</td>\n",
       "      <td>0042000742</td>\n",
       "    </tr>\n",
       "    <tr>\n",
       "      <th>1</th>\n",
       "      <td>Video Games\\nXbox 360\\nGames\\n\\n</td>\n",
       "      <td>Medal of Honor: Warfighter - Includes Battlefi...</td>\n",
       "      <td>[&gt;#67,231 in Video Games (See Top 100 in Video...</td>\n",
       "      <td>0078764343</td>\n",
       "    </tr>\n",
       "    <tr>\n",
       "      <th>2</th>\n",
       "      <td>Video Games\\nRetro Gaming &amp; Microconsoles\\nSup...</td>\n",
       "      <td>street fighter 2 II turbo super nintendo snes ...</td>\n",
       "      <td>[&gt;#134,433 in Video Games (See Top 100 in Vide...</td>\n",
       "      <td>0276425316</td>\n",
       "    </tr>\n",
       "    <tr>\n",
       "      <th>3</th>\n",
       "      <td>Video Games\\nXbox 360\\nAccessories\\nController...</td>\n",
       "      <td>Xbox 360 MAS STICK</td>\n",
       "      <td>[&gt;#105,263 in Video Games (See Top 100 in Vide...</td>\n",
       "      <td>0324411812</td>\n",
       "    </tr>\n",
       "    <tr>\n",
       "      <th>4</th>\n",
       "      <td>Video Games\\nPC\\nGames\\n\\nGrades 2-12\\nSpellin...</td>\n",
       "      <td>Phonics Alive! 3: The Speller</td>\n",
       "      <td>[&gt;#92,397 in Video Games (See Top 100 in Video...</td>\n",
       "      <td>0439335310</td>\n",
       "    </tr>\n",
       "  </tbody>\n",
       "</table>\n",
       "</div>"
      ],
      "text/plain": [
       "                                            category  \\\n",
       "0                           Video Games\\nPC\\nGames\\n   \n",
       "1                   Video Games\\nXbox 360\\nGames\\n\\n   \n",
       "2  Video Games\\nRetro Gaming & Microconsoles\\nSup...   \n",
       "3  Video Games\\nXbox 360\\nAccessories\\nController...   \n",
       "4  Video Games\\nPC\\nGames\\n\\nGrades 2-12\\nSpellin...   \n",
       "\n",
       "                                               title  \\\n",
       "0                         Reversi Sensory Challenger   \n",
       "1  Medal of Honor: Warfighter - Includes Battlefi...   \n",
       "2  street fighter 2 II turbo super nintendo snes ...   \n",
       "3                                 Xbox 360 MAS STICK   \n",
       "4                      Phonics Alive! 3: The Speller   \n",
       "\n",
       "                                                rank        asin  \n",
       "0  [>#2,623,937 in Toys &amp; Games (See Top 100 ...  0042000742  \n",
       "1  [>#67,231 in Video Games (See Top 100 in Video...  0078764343  \n",
       "2  [>#134,433 in Video Games (See Top 100 in Vide...  0276425316  \n",
       "3  [>#105,263 in Video Games (See Top 100 in Vide...  0324411812  \n",
       "4  [>#92,397 in Video Games (See Top 100 in Video...  0439335310  "
      ]
     },
     "execution_count": 476,
     "metadata": {},
     "output_type": "execute_result"
    }
   ],
   "source": [
    "# por fim, o restante do dataset:\n",
    "metadata_df_filtrado.head()"
   ]
  },
  {
   "cell_type": "markdown",
   "metadata": {
    "id": "NiZS3DUWGSwf"
   },
   "source": [
    "## a) (2,0 pontos) Modelo de recomendação com filtragem colaborativa**"
   ]
  },
  {
   "cell_type": "markdown",
   "metadata": {},
   "source": [
    "Resolvemos utilizar uma abordagem de embeddings, ao invés de vetores esparsos como CountVectorizer ou TF-IDF."
   ]
  },
  {
   "cell_type": "markdown",
   "metadata": {},
   "source": [
    "### Encoder"
   ]
  },
  {
   "cell_type": "code",
   "execution_count": 478,
   "metadata": {},
   "outputs": [],
   "source": [
    "import os, sys\n",
    "import numpy as np\n",
    "from numpy.typing import NDArray\n",
    "from typing import List, Optional\n",
    "from vertexai.language_models import TextEmbeddingInput, TextEmbeddingModel\n",
    "import vertexai\n",
    "from google.cloud import aiplatform\n",
    "from numpy.typing import NDArray\n",
    "import numpy as np\n",
    "\n",
    "\n",
    "class EmbeddingVertexAI:\n",
    "    def __init__(self):\n",
    "        self.model_name = 'text-multilingual-embedding-002'\n",
    "        self.embedding_dim = 768\n",
    "        self.embedding_model = TextEmbeddingModel.from_pretrained(self.model_name)\n",
    "\n",
    "    @staticmethod\n",
    "    def _batch_chunks(chunks: List[str], batch_size: int = 250):\n",
    "        \"\"\"A API tem o limite de 250 documentos por request para criar os embeddings\"\"\"\n",
    "        for i in range(0, len(chunks), batch_size):\n",
    "            yield chunks[i:i + batch_size]\n",
    "\n",
    "    @staticmethod\n",
    "    def _batch_inputs(inputs: List[TextEmbeddingInput], batch_size: int = 10):\n",
    "        for i in range(0, len(inputs), batch_size):\n",
    "            yield inputs[i:i + batch_size]\n",
    "\n",
    "    def embed_documents(\n",
    "            self, \n",
    "            chunks: List[str], \n",
    "            task: str = 'SEMANTIC_SIMILARITY',\n",
    "    ) -> NDArray[np.float32]:\n",
    "        \"\"\"Embeds texts with a pre-trained, foundational model.\n",
    "        Args:\n",
    "            texts (List[str]): A list of texts to be embedded.\n",
    "            task (str): The task type for embedding. Check the available tasks in the model's documentation.\n",
    "            dimensionality (Optional[int]): The dimensionality of the output embeddings.\n",
    "        Returns:\n",
    "            List[List[float]]: A list of lists containing the embedding vectors for each input text\n",
    "        \"\"\"\n",
    "\n",
    "        # A API tem o limite de 250 documentos por request para criar os embeddings\n",
    "        # Então, é necessário dividir os documentos em batches\n",
    "        batches: List[List[str]] = self._batch_chunks(chunks)\n",
    "        all_embeddings = []\n",
    "        for batch in batches:\n",
    "            # Otimiza os embeddings conforme o tipo de task, melhorando, \n",
    "            # segundo a documentação, a qualidade dos embeddings\n",
    "            inputs = [TextEmbeddingInput(chunk, task) for chunk in batch]\n",
    "            kwargs = dict(output_dimensionality=self.embedding_dim) if self.embedding_dim else {}\n",
    "            \n",
    "            for inputs_batch in self._batch_inputs(inputs):\n",
    "                embeddings = self.embedding_model.get_embeddings(inputs_batch, **kwargs)\n",
    "                embeddings = np.array([embedding.values for embedding in embeddings], dtype=np.float32)\n",
    "                all_embeddings.append(embeddings)\n",
    "\n",
    "        embeddings = np.concatenate(all_embeddings, axis=0)\n",
    "\n",
    "        return embeddings"
   ]
  },
  {
   "cell_type": "markdown",
   "metadata": {},
   "source": [
    "## VectorStore"
   ]
  },
  {
   "cell_type": "code",
   "execution_count": 480,
   "metadata": {},
   "outputs": [],
   "source": [
    "import faiss\n",
    "from pandas import DataFrame\n",
    "import numpy as np\n",
    "from typing import Tuple\n",
    "from numpy import ndarray\n",
    "from typing import List\n",
    "os.environ[\"KMP_DUPLICATE_LIB_OK\"]=\"TRUE\"\n",
    "\n",
    "class VectorStoreFaissAdapter:\n",
    "\n",
    "    def __init__(\n",
    "            self, \n",
    "            encoder, \n",
    "            index_path: str = None,\n",
    "            index_type: str = 'flat', \n",
    "    ):\n",
    "        if index_path:\n",
    "            self.index_path = index_path\n",
    "        else:\n",
    "            os.makedirs(os.path.join('data', 'vectorstore'), exist_ok=True)\n",
    "            self.index_path = os.path.join('data', 'vectorstore')\n",
    "\n",
    "        self.encoder = encoder\n",
    "        self.vector_store = None\n",
    "        self.index_type = index_type\n",
    "        self.index_file = os.path.join(self.index_path, 'index.faiss')\n",
    "        self.metadata_file = os.path.join(self.index_path, 'metadata.npy')  # Para armazenar títulos ou IDs\n",
    "        \n",
    "        if os.path.exists(self.index_file):\n",
    "            self.index = self._read_index()\n",
    "            self.metadata = np.load(self.metadata_file, allow_pickle=True).tolist()  # Carrega os metadados\n",
    "        else:\n",
    "            self.index = self._create_index(self.encoder.embedding_dim)\n",
    "            self.metadata = []  # Lista para armazenar títulos ou IDs dos produtos\n",
    "\n",
    "    def _create_index(self, embedding_dim: int):\n",
    "        os.makedirs(self.index_path, exist_ok=True)\n",
    "\n",
    "        if self.index_type == 'flat':\n",
    "            return faiss.IndexFlatIP(embedding_dim)\n",
    "        else:\n",
    "            raise ValueError(f\"Unknown index type: {self.index_type}\")\n",
    "        \n",
    "    def _read_index(self):\n",
    "        return faiss.read_index(self.index_file)\n",
    "        \n",
    "    def _save_index(self):\n",
    "        faiss.write_index(self.index, self.index_file)\n",
    "        np.save(self.metadata_file, self.metadata)  # Salva os metadados\n",
    "\n",
    "    def add_products(self, chunks, product_titles: List[str]):\n",
    "        # Gera embeddings a partir dos títulos dos produtos\n",
    "        embeddings = self.encoder.embed_documents(chunks, task='SEMANTIC_SIMILARITY')\n",
    "        embeddings = np.ascontiguousarray(embeddings)\n",
    "        faiss.normalize_L2(embeddings)\n",
    "\n",
    "        self.index.add(embeddings)\n",
    "        self.metadata.extend(product_titles)  # Salva os títulos dos produtos\n",
    "        self._save_index()\n",
    "\n",
    "    def get_embedding_by_title(self, title: str) -> np.ndarray:\n",
    "        # Busca o índice do título no metadata\n",
    "        try:\n",
    "            product_index = self.metadata.index(title)\n",
    "            embedding = self.index.reconstruct(product_index)  # Recupera o embedding do FAISS\n",
    "            return embedding\n",
    "        except ValueError:\n",
    "            raise ValueError(f\"Produto '{title}' não encontrado no metadata.\")\n",
    "\n",
    "    def search_by_embedding(self, embedding: ndarray, k: int = 5) -> List[Tuple[str, float]]:\n",
    "        embedding = embedding.reshape(1, -1)\n",
    "        embedding = np.ascontiguousarray(embedding)\n",
    "        faiss.normalize_L2(embedding)\n",
    "\n",
    "        distances, indexes = self.index.search(embedding, k)\n",
    "\n",
    "        # Mapeia os índices para os títulos/metadados dos produtos\n",
    "        results = [\n",
    "            (self.metadata[idx], distances[0][i]) for i, idx in enumerate(indexes[0]) if idx != -1\n",
    "        ]\n",
    "        return results\n"
   ]
  },
  {
   "cell_type": "code",
   "execution_count": null,
   "metadata": {
    "id": "l7ZUSsc5GUzF"
   },
   "outputs": [],
   "source": [
    "# Implemente um sistema de recomendação utilizando filtragem colaborativa\n",
    "\n",
    "# Insira comentários no decorrer do código"
   ]
  },
  {
   "cell_type": "markdown",
   "metadata": {
    "id": "cTnpALjyGVZT"
   },
   "source": [
    "- **b) (2,0 pontos) Modelo de recomendação baseado em conteúdo**"
   ]
  },
  {
   "cell_type": "code",
   "execution_count": null,
   "metadata": {
    "id": "WrdvK8HsGWiv"
   },
   "outputs": [],
   "source": [
    "# Implemente um sistema de recomendação baseado em conteúdo\n",
    "\n",
    "# Insira comentários no decorrer do código"
   ]
  },
  {
   "cell_type": "markdown",
   "metadata": {
    "id": "LLgvj2yvGWwd"
   },
   "source": [
    "- **c) (2,0 pontos) Modelo de recomendação aplicando a redução da dimensionalidade**"
   ]
  },
  {
   "cell_type": "code",
   "execution_count": null,
   "metadata": {
    "id": "j6NF8F8DGXgT"
   },
   "outputs": [],
   "source": [
    "# Implemente um sistema de recomendação aplicando a redução da dimensionalidade\n",
    "\n",
    "# Insira comentários no decorrer do código"
   ]
  },
  {
   "cell_type": "markdown",
   "metadata": {
    "id": "iIWOmS0OgSJQ"
   },
   "source": [
    "- **(2,0 pontos) Análise das métricas**"
   ]
  },
  {
   "cell_type": "code",
   "execution_count": null,
   "metadata": {
    "id": "fNitDdpKgVzp"
   },
   "outputs": [],
   "source": [
    "# Calcule e informe as métricas para cada um dos modelos de recomendação desenvolvidos\n",
    "\n",
    "# Utilize gráficos e tabelas sempre que considerar interessante"
   ]
  },
  {
   "cell_type": "markdown",
   "metadata": {
    "id": "zKKnbfOIHMDA"
   },
   "source": [
    "- **Conclusões (1,5 pontos)**"
   ]
  },
  {
   "cell_type": "markdown",
   "metadata": {
    "id": "QbENwF0qg6hF"
   },
   "source": [
    "Insira suas conclusões aqui.\n",
    "\n",
    "Dica: Informe as conclusões obtidas. Compare os valores das métricas obtidas entre os modelos e justifique qual seria o melhor modelo a ser utilizado no momento. Foque em convencer o gestor de que os seus modelos de recomendações são bons e qual seria o melhor a ser utilizado apresentando o motivo/justificativa."
   ]
  }
 ],
 "metadata": {
  "colab": {
   "collapsed_sections": [
    "WO2gqsqDrkDa"
   ],
   "provenance": []
  },
  "kernelspec": {
   "display_name": "venv",
   "language": "python",
   "name": "python3"
  },
  "language_info": {
   "codemirror_mode": {
    "name": "ipython",
    "version": 3
   },
   "file_extension": ".py",
   "mimetype": "text/x-python",
   "name": "python",
   "nbconvert_exporter": "python",
   "pygments_lexer": "ipython3",
   "version": "3.12.4"
  }
 },
 "nbformat": 4,
 "nbformat_minor": 0
}
